{
 "metadata": {
  "name": "05_Parallel_Computing"
 },
 "nbformat": 3,
 "nbformat_minor": 0,
 "worksheets": [
  {
   "cells": [
    {
     "cell_type": "markdown",
     "metadata": {},
     "source": [
      "<style>\n",
      "    h1{\n",
      "        text-align:center;\n",
      "    }\n",
      "    h2{\n",
      "        text-align:center;\n",
      "        font-variant:small-caps;\n",
      "    }\n",
      "</style>\n",
      "# Parallel Computing with IPython\n",
      "# Python in HPC\n",
      "\n",
      "Presenters:\n",
      "\n",
      "Andy R. Terrel, PhD  \n",
      "Texas Advanced Computing Center  \n",
      "University of Texas at Austin  \n",
      "\n",
      "Yaakoub El Khamra  \n",
      "Texas Advanced Computing Center  \n",
      "University of Texas at Austin  \n",
      "\n",
      "[![Creative Commons License](http://i.creativecommons.org/l/by/3.0/88x31.png)](http://creativecommons.org/licenses/by/3.0/deed.en_US)  \n",
      "\n",
      "![TACC Logo](/files/figures/TACC_logo.png)\n",
      "\n",
      "<script>\n",
      "var bind_remote = function(selector){\n",
      "    var cc = $('<input/>')\n",
      "        .attr('id','azerty')\n",
      "        .fadeTo(0.2,0)\n",
      "        .keydown(\n",
      "        function(event){\n",
      "                if(event.which == IPython.utils.keycodes.LEFT_ARROW){\n",
      "                    console.log('go left');\n",
      "                    IPython.slideshow.prev();\n",
      "                }\n",
      "                else if(event.which == IPython.utils.keycodes.RIGHT_ARROW){\n",
      "                    console.log('go right')\n",
      "                    IPython.slideshow.next();   \n",
      "                }\n",
      "            event.preventDefault();\n",
      "            return false;\n",
      "            })\n",
      "            .focusin(function(){$('#qwerty').button('option','label','Slide Mode Enabled')})\n",
      "            .focusout(function(){$('#qwerty').button('option','label','Enable Slide Mode')})\n",
      "        \n",
      "        var dd = $('<div/>')\n",
      "            .attr('id','qwerty')\n",
      "            .button({label:'slide control'})\n",
      "            .attr('style','float:right')\n",
      "            .click(\n",
      "                function(){\n",
      "                    $('#azerty').focus();\n",
      "                    console.log('...');\n",
      "                })\n",
      "            .keydown(\n",
      "                function(event){\n",
      "                    console.log('event append',event);\n",
      "                event.preventDefault();\n",
      "                return false;\n",
      "                })\n",
      "    var hin = function(){$(selector).fadeTo('slow',1);}\n",
      "    var hout= function(){$(selector).fadeTo('slow',0.3);}        \n",
      "    $(selector)\n",
      "        .append(cc)\n",
      "        .append(dd)\n",
      "        .fadeTo('slow',0.3)\n",
      "    .hover(hin,hout)\n",
      "     \n",
      "}\n",
      "</script>   "
     ]
    },
    {
     "cell_type": "markdown",
     "metadata": {},
     "source": [
      "---\n",
      "\n",
      "## Updated Tutorial\n",
      "<!--====-->\n",
      "\n",
      "These presentation materials are being continuously updated as we refine and improve our demonstrats.  To get the latest version of this tutorial you can:\n",
      "\n",
      "1) Download a zip or tar ball from the [github SC2012 tag](https://github.com/aterrel/HPCPythonSC2012/tags):\n",
      "\n",
      "    wget --no-check-certificate https://github.com/aterrel/HPCPythonSC2012/zipball/SC2012\n",
      "    wget --no-check-certificate https://github.com/aterrel/HPCPythonSC2012/tarball/SC2012\n",
      "\n",
      "2) Checkout from git\n",
      "\n",
      "    git clone https://github.com/aterrel/HPCPythonSC2012.git\n",
      "\n",
      "3) View the html version on nbviewer: http://nbviewer.ipython.org/urls/raw.github.com/aterrel/HPCPythonSC2012/master/01_Introducing_Python.ipynb\n",
      "\n",
      "4) As a last resort, head to https://github.com/aterrel/HPCPythonSC2012 for updated instructions (see the README at the bottom of the page).\n"
     ]
    },
    {
     "cell_type": "markdown",
     "metadata": {},
     "source": [
      "---\n",
      "\n",
      "## Interacting with the Tutorial Slides\n",
      "<!--====-->\n",
      "\n",
      "This tutorial is an interactive worksheet designed to encourage you to try out the lessons during the demonstration.  If you are looking at the pdf version, we encourage you to download the updated version (see previous slide) and try the interactive version.\n",
      "\n",
      "To run the interactive version, you need a good Python environment including: \n",
      "\n",
      "* IPython version >= 13.0\n",
      "* Numpy version >= 1.5\n",
      "* Scipy\n",
      "* Matplotlib\n",
      "\n",
      "Move to the directory containing the tarball and execute:\n",
      "\n",
      "    $ ipython notebook --pylab=inline\n",
      "\n",
      "We heartily endorse the [Free Enthought Python Distribution](http://www.enthought.com/products/epd_free.php).\n",
      "and the [Anaconda distribution](https://store.continuum.io/cshop/anaconda)"
     ]
    },
    {
     "cell_type": "markdown",
     "metadata": {},
     "source": [
      "---\n",
      "## Presentation mode\n",
      "<!--====-->\n",
      "The slide show mode is only supported by an IPython development branch version. To get it I recommend cloning from the official branch, adding Matthias Carreau's remote, fetching and using his branch slideshow_extension2.  Here are the commands:\n",
      "\n",
      "    git clone git://github.com/ipython/ipython.git # Official clone\n",
      "    cd ipython\n",
      "    git remote add carreau git://github.com/Carreau/ipython.git # Matthias' branch\n",
      "    git fetch carreau # Fetch the branches\n",
      "    git checkout carreau/slideshow_extension2 # Checkout the slideshow extension\n",
      "    python setup.py develop # Install the development version\n",
      "    ipython notebook # Check out the slideshows.\n"
     ]
    },
    {
     "cell_type": "markdown",
     "metadata": {},
     "source": [
      "---\n",
      "\n",
      "Architecture Overview\n",
      "-------------------------------------\n",
      "<!--====-->\n",
      "\n",
      "![Architecture](/files/figures/wideView.png)\n",
      "\n",
      "The IPython architecture consists of four components:\n",
      "\n",
      "* The IPython engine\n",
      "* The IPython hub\n",
      "* The IPython schedulers\n",
      "* The controller client"
     ]
    },
    {
     "cell_type": "markdown",
     "metadata": {},
     "source": [
      "---\n",
      "\n",
      "The Engine(s)\n",
      "-------------------------------------\n",
      "<!--====-->\n",
      "\n",
      "The IPython engine is a Python instance that takes Python commands over a network connection. Eventually, the IPython engine will be a full IPython interpreter, but for now, it is a regular Python interpreter. The engine can also handle incoming and outgoing Python objects sent over a network connection. When multiple engines are started, parallel and distributed computing becomes possible. An important feature of an IPython engine is that it blocks while user code is being executed."
     ]
    },
    {
     "cell_type": "markdown",
     "metadata": {},
     "source": [
      "---\n",
      "\n",
      "The Controller\n",
      "-------------------------------------\n",
      "<!--====-->\n",
      "\n",
      "The IPython controller processes provide an interface for working with a set of engines. At a general level, the controller is a collection of processes to which IPython engines and clients can connect. The controller is composed of a Hub and a collection of Schedulers. These Schedulers are typically run in separate processes but on the same machine as the Hub, but can be run anywhere from local threads or on remote machines.\n",
      "\n",
      "The controller also provides a single point of contact for users who wish to utilize the engines connected to the controller. There are different ways of working with a controller. In IPython, all of these models are implemented via the View.apply() method, after constructing View objects to represent subsets of engines. The two primary models for interacting with engines are:\n",
      "\n",
      " * Direct interface, where engines are addressed explicitly.\n",
      " * LoadBalanced interface, where the Scheduler is trusted with assigning work to appropriate engines.\n",
      "\n",
      "Advanced users can readily extend the View models to enable other styles of parallelism."
     ]
    },
    {
     "cell_type": "markdown",
     "metadata": {},
     "source": [
      "---\n",
      "\n",
      "The Hub\n",
      "-------------------------------------\n",
      "<!--====-->\n",
      "\n",
      "The center of an IPython cluster is the Hub. This is the process that keeps track of engine connections, schedulers, clients, as well as all task requests and results. The primary role of the Hub is to facilitate queries of the cluster state, and minimize the necessary information required to establish the many connections involved in connecting new clients and engines."
     ]
    },
    {
     "cell_type": "markdown",
     "metadata": {},
     "source": [
      "---\n",
      "\n",
      "The Scheduler(s)\n",
      "-------------------------------------\n",
      "<!--====-->\n",
      "\n",
      "All actions that can be performed on the engine go through a Scheduler. While the engines themselves block when user code is run, the schedulers hide that from the user to provide a fully asynchronous interface to a set of engines."
     ]
    },
    {
     "cell_type": "markdown",
     "metadata": {},
     "source": [
      "---\n",
      "\n",
      "Starting the IPython Controller and Engines\n",
      "-------------------------------------\n",
      "<!--====-->\n",
      "We already did this. We used: \n",
      "!ipcluster start --engines=MPI --n 4\n",
      "to launch 4 MPI engines. \n",
      "\n",
      "There are two ways to start the controller and engines:\n",
      "\n",
      "* In an automated manner using the ipcluster command (possibly with a profile)\n",
      "* In a more manual way using the ipcontroller and ipengine commands\n",
      "\n",
      "Use ipcluster (with a profile) whenever possible. The profile will live in IPYTHONDIR/profile_< profile name >/ (usually $HOME/.ipython...) and that directory needs to be accessible to controller and engines.\n",
      "\n",
      "ipcluster supports:\n",
      "\n",
      " * all local: controller and engines are on the same node (we are doing this)\n",
      " * engines are started with mpiexec (we are also doing this)\n",
      " * engines are started with a batch system (PBS/SGE)\n",
      " * controller is on the localhost, the engines are started remotely with ssh\n",
      "\n",
      "For more information on how to configure a profile for ipcluster, please refer to the [IPython documentation](http://ipython.org/ipython-doc/dev/parallel/parallel_process.html)\n"
     ]
    },
    {
     "cell_type": "markdown",
     "metadata": {},
     "source": [
      "---\n",
      "\n",
      "The Client and Views\n",
      "-------------------------------------\n",
      "<!--====-->\n",
      "\n",
      "There is one primary object, the Client, for connecting to a cluster. For each execution model, there is a corresponding View. These views allow users to interact with a set of engines through the interface. There are two default views:\n",
      "\n",
      " * DirectView class for explicit addressing\n",
      " * LoadBalanceView class for destination-agnostic scheduling\n"
     ]
    },
    {
     "cell_type": "markdown",
     "metadata": {},
     "source": [
      "---\n",
      "\n",
      "The DirectView\n",
      "-------------------------------------\n",
      "<!--====-->\n",
      "The direct, or multiengine, interface represents one possible way of working with a set of IPython engines. The basic idea behind the multiengine interface is that the capabilities of each engine are directly and explicitly exposed to the user. Thus, in the multiengine interface, each engine is given an id that is used to identify the engine and give it work to do. This interface is very intuitive and is designed with interactive usage in mind, and is the best place for new users of IPython to begin.\n"
     ]
    },
    {
     "cell_type": "code",
     "collapsed": false,
     "input": [
      "# import the parallel module and create a Client instance\n",
      "from IPython.parallel import Client\n",
      "rc = Client()\n",
      "# check the id's of the engines\n",
      "print rc.ids\n",
      "# Create a DirectView object that will use all of the available engines\n",
      "direct_view = rc[:]\n"
     ],
     "language": "python",
     "metadata": {},
     "outputs": [
      {
       "output_type": "stream",
       "stream": "stdout",
       "text": [
        "[0, 1, 2, 3]\n"
       ]
      }
     ],
     "prompt_number": 1
    },
    {
     "cell_type": "markdown",
     "metadata": {},
     "source": [
      "---\n",
      "\n",
      "The map() function\n",
      "-------------------------------------\n",
      "<!--====-->\n",
      "\n",
      "Python\u2019s builtin map() functions allows a function to be applied to a sequence element-by-element (and is thus trivial to parallelize). The DirectView\u2018s version of map() does not do dynamic load balancing\n"
     ]
    },
    {
     "cell_type": "code",
     "collapsed": false,
     "input": [
      "# serial version run on the controller\n",
      "serial_result = map(lambda x:x**10, range(32))\n",
      "# parallel version run on the engines\n",
      "parallel_result = direct_view.map_sync(lambda x: x**10, range(32))\n",
      "# make sure they are equal\n",
      "serial_result==parallel_result"
     ],
     "language": "python",
     "metadata": {},
     "outputs": [
      {
       "output_type": "pyout",
       "prompt_number": 2,
       "text": [
        "True"
       ]
      }
     ],
     "prompt_number": 2
    },
    {
     "cell_type": "markdown",
     "metadata": {},
     "source": [
      "---\n",
      "\n",
      "Remote Function Decorators\n",
      "-------------------------------------\n",
      "<!--====-->\n",
      "\n",
      "Remote functions are just like normal functions, but when they are called, they execute on one or more engines, rather than locally. IPython provides two decorators:"
     ]
    },
    {
     "cell_type": "code",
     "collapsed": false,
     "input": [
      "@direct_view.remote(block=True)\n",
      "def getpid():\n",
      "    import os\n",
      "    return os.getpid()"
     ],
     "language": "python",
     "metadata": {},
     "outputs": [],
     "prompt_number": 3
    },
    {
     "cell_type": "code",
     "collapsed": false,
     "input": [
      "getpid()"
     ],
     "language": "python",
     "metadata": {},
     "outputs": [
      {
       "output_type": "pyout",
       "prompt_number": 4,
       "text": [
        "[8934, 8931, 8932, 8933]"
       ]
      }
     ],
     "prompt_number": 4
    },
    {
     "cell_type": "markdown",
     "metadata": {},
     "source": [
      "The @parallel decorator creates parallel functions, that break up an element-wise operations and distribute them, reconstructing the result."
     ]
    },
    {
     "cell_type": "code",
     "collapsed": false,
     "input": [
      "import numpy as np\n",
      "A = np.random.random((64,48))\n",
      "\n",
      "@direct_view.parallel(block=True)\n",
      "def pmul(A,B):\n",
      "    return A*B\n",
      "\n",
      "C_local = A*A\n",
      "\n",
      "C_remote = pmul(A,A)\n",
      "\n",
      "(C_local == C_remote).all()"
     ],
     "language": "python",
     "metadata": {},
     "outputs": [
      {
       "output_type": "pyout",
       "prompt_number": 5,
       "text": [
        "True"
       ]
      }
     ],
     "prompt_number": 5
    },
    {
     "cell_type": "markdown",
     "metadata": {},
     "source": [
      "Calling a @parallel function does not correspond to map. It is used for splitting element-wise operations that operate on a sequence or array. For map behavior, parallel functions do have a map method."
     ]
    },
    {
     "cell_type": "markdown",
     "metadata": {},
     "source": [
      "---\n",
      "\n",
      "Calling Python functions\n",
      "-------------------------------------\n",
      "<!--====-->\n",
      "\n",
      "The most basic type of operation that can be performed on the engines is to execute Python code or call Python functions. Executing Python code can be done in blocking or non-blocking mode (non-blocking is default) using the View.execute() method, and calling functions can be done via the View.apply() method."
     ]
    },
    {
     "cell_type": "code",
     "collapsed": false,
     "input": [
      "# Setup a blocking view\n",
      "blocking_direct_view = rc[:]\n",
      "blocking_direct_view.block = True\n",
      "\n",
      "# Set the values of a and b on all engines\n",
      "blocking_direct_view['a'] = 10\n",
      "blocking_direct_view['b'] = 12\n",
      "\n",
      "# Apply a function\n",
      "blocking_direct_view.apply(lambda x: a+b+x, 5)"
     ],
     "language": "python",
     "metadata": {},
     "outputs": [
      {
       "output_type": "pyout",
       "prompt_number": 6,
       "text": [
        "[27, 27, 27, 27]"
       ]
      }
     ],
     "prompt_number": 6
    },
    {
     "cell_type": "markdown",
     "metadata": {},
     "source": [
      "Alternatively you can execute Python commands as strings on specific engines"
     ]
    },
    {
     "cell_type": "code",
     "collapsed": false,
     "input": [
      "# execute on 0 and 2\n",
      "rc[::2].execute('c=a+b')\n",
      "# execute on 1 and 3\n",
      "rc[1::2].execute('c=a-b')\n",
      "# retrieve c from the engines\n",
      "blocking_direct_view['c']"
     ],
     "language": "python",
     "metadata": {},
     "outputs": [
      {
       "output_type": "pyout",
       "prompt_number": 7,
       "text": [
        "[22, -2, 22, -2]"
       ]
      }
     ],
     "prompt_number": 7
    },
    {
     "cell_type": "markdown",
     "metadata": {},
     "source": [
      "In non-blocking mode, apply() submits the command to the engine and returns immediately with a AsyncResult object. To retrieve the result you can use the get() method from the [AsyncResult](http://ipython.org/ipython-doc/dev/parallel/asyncresult.html#parallel-asyncresult) object. The advantage of using non-blocking execution is that you can submit commands that possibly take a long time to execute without blocking the controller (particularly useful in interactive sessions)."
     ]
    },
    {
     "cell_type": "code",
     "collapsed": false,
     "input": [
      "non_blocking_direct_view = rc[:]\n",
      "non_blocking_direct_view.block = False\n",
      "\n",
      "# create a dummy wait function\n",
      "def wait(t):\n",
      "    import time\n",
      "    tic = time.time()\n",
      "    time.sleep(t)\n",
      "    return time.time()-tic\n",
      "\n",
      "# in non-blocking mode\n",
      "ar = non_blocking_direct_view.apply_async(wait,2)\n",
      "# now block for the result\n",
      "ar.get()\n",
      "                "
     ],
     "language": "python",
     "metadata": {},
     "outputs": [
      {
       "output_type": "pyout",
       "prompt_number": 8,
       "text": [
        "[2.0011651515960693, 2.0009448528289795, 2.001411199569702, 2.002135992050171]"
       ]
      }
     ],
     "prompt_number": 8
    },
    {
     "cell_type": "code",
     "collapsed": false,
     "input": [
      "ar = non_blocking_direct_view.apply_async(wait,10)\n",
      "\n",
      "# poll to see if the result is ready\n",
      "ar.ready()"
     ],
     "language": "python",
     "metadata": {},
     "outputs": [
      {
       "output_type": "pyout",
       "prompt_number": 9,
       "text": [
        "False"
       ]
      }
     ],
     "prompt_number": 9
    },
    {
     "cell_type": "code",
     "collapsed": false,
     "input": [
      "# Ask for the result but wait for a maximum of 1 second:\n",
      "ar.get(1)"
     ],
     "language": "python",
     "metadata": {},
     "outputs": [
      {
       "ename": "TimeoutError",
       "evalue": "Result not ready.",
       "output_type": "pyerr",
       "traceback": [
        "\u001b[1;31m---------------------------------------------------------------------------\u001b[0m\n\u001b[1;31mTimeoutError\u001b[0m                              Traceback (most recent call last)",
        "\u001b[1;32m<ipython-input-10-956931203bff>\u001b[0m in \u001b[0;36m<module>\u001b[1;34m()\u001b[0m\n\u001b[0;32m      1\u001b[0m \u001b[1;31m# Ask for the result but wait for a maximum of 1 second:\u001b[0m\u001b[1;33m\u001b[0m\u001b[1;33m\u001b[0m\u001b[0m\n\u001b[1;32m----> 2\u001b[1;33m \u001b[0mar\u001b[0m\u001b[1;33m.\u001b[0m\u001b[0mget\u001b[0m\u001b[1;33m(\u001b[0m\u001b[1;36m1\u001b[0m\u001b[1;33m)\u001b[0m\u001b[1;33m\u001b[0m\u001b[0m\n\u001b[0m",
        "\u001b[1;32m/opt/anaconda/lib/python2.7/site-packages/IPython/parallel/client/asyncresult.pyc\u001b[0m in \u001b[0;36mget\u001b[1;34m(self, timeout)\u001b[0m\n\u001b[0;32m    125\u001b[0m                 \u001b[1;32mraise\u001b[0m \u001b[0mself\u001b[0m\u001b[1;33m.\u001b[0m\u001b[0m_exception\u001b[0m\u001b[1;33m\u001b[0m\u001b[0m\n\u001b[0;32m    126\u001b[0m         \u001b[1;32melse\u001b[0m\u001b[1;33m:\u001b[0m\u001b[1;33m\u001b[0m\u001b[0m\n\u001b[1;32m--> 127\u001b[1;33m             \u001b[1;32mraise\u001b[0m \u001b[0merror\u001b[0m\u001b[1;33m.\u001b[0m\u001b[0mTimeoutError\u001b[0m\u001b[1;33m(\u001b[0m\u001b[1;34m\"Result not ready.\"\u001b[0m\u001b[1;33m)\u001b[0m\u001b[1;33m\u001b[0m\u001b[0m\n\u001b[0m\u001b[0;32m    128\u001b[0m \u001b[1;33m\u001b[0m\u001b[0m\n\u001b[0;32m    129\u001b[0m     \u001b[1;32mdef\u001b[0m \u001b[0mready\u001b[0m\u001b[1;33m(\u001b[0m\u001b[0mself\u001b[0m\u001b[1;33m)\u001b[0m\u001b[1;33m:\u001b[0m\u001b[1;33m\u001b[0m\u001b[0m\n",
        "\u001b[1;31mTimeoutError\u001b[0m: Result not ready."
       ]
      }
     ],
     "prompt_number": 10
    },
    {
     "cell_type": "markdown",
     "metadata": {},
     "source": [
      "---\n",
      "\n",
      "Moving Objects around\n",
      "-------------------------------------\n",
      "<!--====-->\n",
      "\n",
      "Use push() and pull() to send and get objects from engines"
     ]
    },
    {
     "cell_type": "code",
     "collapsed": false,
     "input": [
      "blocking_direct_view.push(dict(a=1.03234,b=3453))"
     ],
     "language": "python",
     "metadata": {},
     "outputs": []
    },
    {
     "cell_type": "code",
     "collapsed": false,
     "input": [
      "blocking_direct_view.pull('a')"
     ],
     "language": "python",
     "metadata": {},
     "outputs": []
    },
    {
     "cell_type": "code",
     "collapsed": false,
     "input": [
      "blocking_direct_view.pull('b', targets=0)"
     ],
     "language": "python",
     "metadata": {},
     "outputs": [
      {
       "output_type": "pyout",
       "prompt_number": 11,
       "text": [
        "12"
       ]
      }
     ],
     "prompt_number": 11
    },
    {
     "cell_type": "code",
     "collapsed": false,
     "input": [
      "blocking_direct_view.pull(('a','b'))"
     ],
     "language": "python",
     "metadata": {},
     "outputs": [
      {
       "output_type": "pyout",
       "prompt_number": 12,
       "text": [
        "[[10, 12], [10, 12], [10, 12], [10, 12]]"
       ]
      }
     ],
     "prompt_number": 12
    },
    {
     "cell_type": "code",
     "collapsed": false,
     "input": [
      "blocking_direct_view.push(dict(c='speed'))"
     ],
     "language": "python",
     "metadata": {},
     "outputs": [
      {
       "output_type": "pyout",
       "prompt_number": 13,
       "text": [
        "[None, None, None, None]"
       ]
      }
     ],
     "prompt_number": 13
    },
    {
     "cell_type": "markdown",
     "metadata": {},
     "source": [
      "In non-blocking mode, push() and pull() return AsyncResult objects"
     ]
    },
    {
     "cell_type": "code",
     "collapsed": false,
     "input": [
      "ar = non_blocking_direct_view.pull('a')\n",
      "ar.get()"
     ],
     "language": "python",
     "metadata": {},
     "outputs": [
      {
       "output_type": "pyout",
       "prompt_number": 14,
       "text": [
        "[10, 10, 10, 10]"
       ]
      }
     ],
     "prompt_number": 14
    },
    {
     "cell_type": "markdown",
     "metadata": {},
     "source": [
      "---\n",
      "\n",
      "Parallel Magic Commands\n",
      "-------------------------------------\n",
      "<!--====-->\n",
      "\n",
      "IPython has a few magic commands that make executing Python commands in parallel a lot more pleasant. The magics will be automatically available when we create a client:\n",
      "\n",
      "   rc = parallel.Client()"
     ]
    },
    {
     "cell_type": "code",
     "collapsed": false,
     "input": [
      "# Import numpy everywhere, including controller\n",
      "with rc[:].sync_imports():\n",
      "    import numpy"
     ],
     "language": "python",
     "metadata": {},
     "outputs": [
      {
       "output_type": "stream",
       "stream": "stdout",
       "text": [
        "importing numpy on engine(s)\n"
       ]
      }
     ],
     "prompt_number": 15
    },
    {
     "cell_type": "markdown",
     "metadata": {},
     "source": [
      "The %px magic executes a single Python command on the engines specified by the targets attribute of the DirectView instance:"
     ]
    },
    {
     "cell_type": "code",
     "collapsed": false,
     "input": [
      "%px a = numpy.random.rand(2,2)\n",
      "# to see the result:\n",
      "%px print a"
     ],
     "language": "python",
     "metadata": {},
     "outputs": [
      {
       "output_type": "stream",
       "stream": "stdout",
       "text": [
        "[stdout:0] \n",
        "[[ 0.82667735  0.66565463]\n",
        " [ 0.61420972  0.16441352]]\n",
        "[stdout:1] \n",
        "[[ 0.27998403  0.03613391]\n",
        " [ 0.22411914  0.11127976]]\n",
        "[stdout:2] \n",
        "[[ 0.93768523  0.08467376]\n",
        " [ 0.48136748  0.02146864]]\n",
        "[stdout:3] \n",
        "[[ 0.37617124  0.10193096]\n",
        " [ 0.19097601  0.12960687]]\n"
       ]
      }
     ],
     "prompt_number": 16
    },
    {
     "cell_type": "markdown",
     "metadata": {},
     "source": [
      "%%px is cell magic for parallel execution. It accepts --targets for controlling on which engines to run and --[no]block for specifying the blocking behavior of the cell, independent of the defaults of the View being used."
     ]
    },
    {
     "cell_type": "code",
     "collapsed": false,
     "input": [
      "%%px --targets ::2\n",
      "print \"I am even\""
     ],
     "language": "python",
     "metadata": {},
     "outputs": [
      {
       "output_type": "stream",
       "stream": "stdout",
       "text": [
        "[stdout:0] I am even\n",
        "[stdout:2] I am even\n"
       ]
      }
     ],
     "prompt_number": 17
    },
    {
     "cell_type": "code",
     "collapsed": false,
     "input": [
      "%%px --targets 1\n",
      "print \"I am number 1\""
     ],
     "language": "python",
     "metadata": {},
     "outputs": [
      {
       "output_type": "stream",
       "stream": "stdout",
       "text": [
        "I am number 1\n"
       ]
      }
     ],
     "prompt_number": 18
    },
    {
     "cell_type": "markdown",
     "metadata": {},
     "source": [
      "Important magic notes:\n",
      "\n",
      " * If you are using %px in non-blocking mode, you won\u2019t get output. You can use %pxresult to display the outputs of the latest command, just as is done when %px is blocking\n",
      " * The %autopx magic switches to a mode where everything you type is executed on the engines until you do %autopx again\n",
      " * You can change the blocking and targets attributes of the active view with %pxconfig\n",
      " * You can change the active view by calling the activate method on any view"
     ]
    }
   ],
   "metadata": {}
  }
 ]
}