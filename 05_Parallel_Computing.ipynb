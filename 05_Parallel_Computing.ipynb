{
 "metadata": {
  "name": "05_Parallel_Computing"
 },
 "nbformat": 3,
 "nbformat_minor": 0,
 "worksheets": [
  {
   "cells": [
    {
     "cell_type": "markdown",
     "metadata": {},
     "source": [
      "---\n",
      "\n",
      "Architecture Overview\n",
      "-------------------------------------\n",
      "<!--====-->\n",
      "\n",
      "![Architecture](/files/figures/wideView.png)\n",
      "\n",
      "The IPython architecture consists of four components:\n",
      "\n",
      "* The IPython engine\n",
      "* The IPython hub\n",
      "* The IPython schedulers\n",
      "* The controller client"
     ]
    },
    {
     "cell_type": "markdown",
     "metadata": {},
     "source": [
      "---\n",
      "\n",
      "The Engine(s)\n",
      "-------------------------------------\n",
      "<!--====-->\n",
      "\n",
      "The IPython engine is a Python instance that takes Python commands over a network connection. Eventually, the IPython engine will be a full IPython interpreter, but for now, it is a regular Python interpreter. The engine can also handle incoming and outgoing Python objects sent over a network connection. When multiple engines are started, parallel and distributed computing becomes possible. An important feature of an IPython engine is that it blocks while user code is being executed."
     ]
    },
    {
     "cell_type": "markdown",
     "metadata": {},
     "source": [
      "---\n",
      "\n",
      "The Controller\n",
      "-------------------------------------\n",
      "<!--====-->\n",
      "\n",
      "The IPython controller processes provide an interface for working with a set of engines. At a general level, the controller is a collection of processes to which IPython engines and clients can connect. The controller is composed of a Hub and a collection of Schedulers. These Schedulers are typically run in separate processes but on the same machine as the Hub, but can be run anywhere from local threads or on remote machines.\n",
      "\n",
      "The controller also provides a single point of contact for users who wish to utilize the engines connected to the controller. There are different ways of working with a controller. In IPython, all of these models are implemented via the View.apply() method, after constructing View objects to represent subsets of engines. The two primary models for interacting with engines are:\n",
      "\n",
      " * Direct interface, where engines are addressed explicitly.\n",
      " * LoadBalanced interface, where the Scheduler is trusted with assigning work to appropriate engines.\n",
      "\n",
      "Advanced users can readily extend the View models to enable other styles of parallelism."
     ]
    },
    {
     "cell_type": "markdown",
     "metadata": {},
     "source": [
      "---\n",
      "\n",
      "The Hub\n",
      "-------------------------------------\n",
      "<!--====-->\n",
      "\n",
      "The center of an IPython cluster is the Hub. This is the process that keeps track of engine connections, schedulers, clients, as well as all task requests and results. The primary role of the Hub is to facilitate queries of the cluster state, and minimize the necessary information required to establish the many connections involved in connecting new clients and engines."
     ]
    },
    {
     "cell_type": "markdown",
     "metadata": {},
     "source": [
      "---\n",
      "\n",
      "The Scheduler(s)\n",
      "-------------------------------------\n",
      "<!--====-->\n",
      "\n",
      "All actions that can be performed on the engine go through a Scheduler. While the engines themselves block when user code is run, the schedulers hide that from the user to provide a fully asynchronous interface to a set of engines."
     ]
    },
    {
     "cell_type": "markdown",
     "metadata": {},
     "source": [
      "---\n",
      "\n",
      "The Client and Views\n",
      "-------------------------------------\n",
      "<!--====-->\n",
      "\n",
      "There is one primary object, the Client, for connecting to a cluster. For each execution model, there is a corresponding View. These views allow users to interact with a set of engines through the interface. Here are the two default views:\n",
      "\n",
      "    The DirectView class for explicit addressing.\n",
      "    The LoadBalancedView class for destination-agnostic scheduling.\n"
     ]
    },
    {
     "cell_type": "code",
     "collapsed": false,
     "input": [],
     "language": "python",
     "metadata": {},
     "outputs": []
    }
   ],
   "metadata": {}
  }
 ]
}