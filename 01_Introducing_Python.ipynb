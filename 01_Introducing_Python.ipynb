{
 "metadata": {
  "name": "01_Introducing_Python"
 },
 "nbformat": 3,
 "nbformat_minor": 0,
 "worksheets": [
  {
   "cells": [
    {
     "cell_type": "markdown",
     "metadata": {},
     "source": [
      "<style>\n",
      "    h1{\n",
      "        text-align:center;\n",
      "    }\n",
      "    h2{\n",
      "        text-align:center;\n",
      "        font-variant:small-caps;\n",
      "    }\n",
      "</style>\n",
      "# Introducing Python\n",
      "# Python in HPC\n",
      "\n",
      "## TACC Training, Oct. 15, 2012\n",
      "\n",
      "Presenters: \n",
      "\n",
      "Andy R. Terrel, PhD  \n",
      "Texas Advanced Computing Center  \n",
      "University of Texas at Austin  \n",
      "\n",
      "Yaakoub El Khamra  \n",
      "Texas Advanced Computing Center  \n",
      "University of Texas at Austin  \n",
      "\n",
      "[![Creative Commons License](/files/figures/creative_commons_logo.png)](http://creativecommons.org/licenses/by/3.0/deed.en_US)  \n",
      "\n",
      "![TACC Logo](/files/figures/TACC_logo.png)\n",
      "\n",
      "<script>\n",
      "var bind_remote = function(selector){\n",
      "    var cc = $('<input/>')\n",
      "        .attr('id','azerty')\n",
      "        .fadeTo(0.2,0)\n",
      "        .keydown(\n",
      "        function(event){\n",
      "                if(event.which == IPython.utils.keycodes.LEFT_ARROW){\n",
      "                    console.log('go left');\n",
      "                    IPython.slideshow.prev();\n",
      "                }\n",
      "                else if(event.which == IPython.utils.keycodes.RIGHT_ARROW){\n",
      "                    console.log('go right')\n",
      "                    IPython.slideshow.next();   \n",
      "                }\n",
      "            event.preventDefault();\n",
      "            return false;\n",
      "            })\n",
      "            .focusin(function(){$('#qwerty').button('option','label','Slide Mode Enabled')})\n",
      "            .focusout(function(){$('#qwerty').button('option','label','Enable Slide Mode')})\n",
      "        \n",
      "        var dd = $('<div/>')\n",
      "            .attr('id','qwerty')\n",
      "            .button({label:'slide control'})\n",
      "            .attr('style','float:right')\n",
      "            .click(\n",
      "                function(){\n",
      "                    $('#azerty').focus();\n",
      "                    console.log('...');\n",
      "                })\n",
      "            .keydown(\n",
      "                function(event){\n",
      "                    console.log('event append',event);\n",
      "                event.preventDefault();\n",
      "                return false;\n",
      "                })\n",
      "    var hin = function(){$(selector).fadeTo('slow',1);}\n",
      "    var hout= function(){$(selector).fadeTo('slow',0.3);}        \n",
      "    $(selector)\n",
      "        .append(cc)\n",
      "        .append(dd)\n",
      "        .fadeTo('slow',0.3)\n",
      "    .hover(hin,hout)\n",
      "     \n",
      "}\n",
      "</script>   "
     ]
    },
    {
     "cell_type": "markdown",
     "metadata": {},
     "source": [
      "---\n",
      "\n",
      "## Interacting with the Tutorial Slides\n",
      "<!--====-->\n",
      "\n",
      "This tutorial is an interactive worksheet designed to encourage you to try out the lessons during the demonstration.  If you are looking at the pdf version, we encourage you to download the updated version (see previous slide) and try the interactive version.\n",
      "\n",
      "To run the interactive version, you need a good Python environment including: \n",
      "\n",
      "* IPython version >= 13.0\n",
      "* Numpy version >= 1.5\n",
      "* Scipy\n",
      "* Matplotlib\n",
      "\n",
      "Move to the directory containing the tarball and execute:\n",
      "\n",
      "    $ ipython notebook --pylab=inline\n",
      "\n",
      "We heartily endorse the [Anaconda distribution](https://store.continuum.io/cshop/anaconda) and the [Free Enthought Python Distribution](http://www.enthought.com/products/epd_free.php). "
     ]
    },
    {
     "cell_type": "markdown",
     "metadata": {},
     "source": [
      "---\n",
      "## Presentation mode\n",
      "<!--====-->\n",
      "The slide show mode is only supported by an IPython development branch version. To get it I recommend cloning from the official branch, adding Matthias Carreau's remote, fetching and using his branch slideshow_extension2.  Here are the commands:\n",
      "\n",
      "    git clone git://github.com/ipython/ipython.git # Official clone\n",
      "    cd ipython\n",
      "    git remote add carreau git://github.com/Carreau/ipython.git # Matthias' branch\n",
      "    git fetch carreau # Fetch the branches\n",
      "    git checkout carreau/slideshow_extension2 # Checkout the slideshow extension\n",
      "    python setup.py develop # Install the development version\n",
      "    ipython notebook # Check out the slideshows.\n"
     ]
    },
    {
     "cell_type": "markdown",
     "metadata": {},
     "source": [
      "<style>\n",
      "        .pmode{ display: none !important }\n",
      "</style>\n",
      "<script>\n",
      "  var IPython = (function(IPython) {\n",
      "\n",
      "      var Presentation = function(){\n",
      "          this.ccell = 0;\n",
      "      }\n",
      "\n",
      "      var is_marked_cell = function(cell){\n",
      "          return (cell.code_mirror.getValue().match(/(\\n)?(<!--|#)?====(-->)?(\\n)?/) != null)\n",
      "      }\n",
      "\n",
      "      Presentation.prototype.create_toolbar = function(){\n",
      "            var pt = $('<div/>').attr('id','toolbar_present').addClass('toolbar');\n",
      "            var that = this;\n",
      "            this.avc = $('<div/>').button({label:that.eta()});\n",
      "            pt.append(this.avc);\n",
      "\n",
      "            $('#toolbar').after(pt);\n",
      "            ptoolbar = new IPython.ToolBar('#toolbar_present');\n",
      "            IPython.ptoolbar = ptoolbar;\n",
      "            ptoolbar.addButtonsGroup([{label:'Stop', icon:'ui-icon-stop', callback:function(){that.stop()}}])\n",
      "            ptoolbar.addButtonsGroup([\n",
      "                     {label:'Prev Slide', icon:'ui-icon-seek-prev', callback:function(){that.prev_group()}},\n",
      "                     {label:'Next Slide', icon:'ui-icon-seek-next', callback:function(){that.next_group()}},\n",
      "                                    ])\n",
      "            ptoolbar.addButtonsGroup([\n",
      "                     {label:'Step Next', icon:'ui-icon-play', callback:function(){that.next()}}\n",
      "                     ])\n",
      "            bind_remote('#toolbar_present');\n",
      "\n",
      "      }\n",
      "\n",
      "      Presentation.prototype.remove_toolbar = function(){\n",
      "          $('#toolbar_present').remove();\n",
      "      }\n",
      "\n",
      "      Presentation.prototype.ngroups = function(){\n",
      "          var cells = IPython.notebook.get_cells();\n",
      "          var cnt =0\n",
      "          for( var i=0; i< cells.length;i++)\n",
      "              if(is_marked_cell(cells[i])) cnt++;\n",
      "          return cnt\n",
      "      }\n",
      "\n",
      "      Presentation.prototype.cgroups = function(){\n",
      "          var cells = IPython.notebook.get_cells();\n",
      "          var cnt =0\n",
      "          for( var i=0; i<= this.ccell ;i++)\n",
      "              if(is_marked_cell(cells[i])) cnt++;\n",
      "          return cnt\n",
      "      }\n",
      "\n",
      "      Presentation.prototype.eta = function(){\n",
      "          return this.cgroups()+'/'+this.ngroups()\n",
      "          }\n",
      "\n",
      "      Presentation.prototype.next_marked_cell_n = function()\n",
      "      {\n",
      "          for(var i=this.ccell+1; i< $('.cell').length; i++)\n",
      "          {\n",
      "              if(is_marked_cell(IPython.notebook.get_cell(i)))\n",
      "                { return i; }\n",
      "          }\n",
      "          return null;\n",
      "      }\n",
      "\n",
      "      Presentation.prototype.prev_marked_cell_n = function()\n",
      "      {\n",
      "          for(var i=this.ccell-1; i> 0; i--)\n",
      "          {\n",
      "              if(is_marked_cell(IPython.notebook.get_cell(i))){\n",
      "                 return i\n",
      "              }\n",
      "          }\n",
      "          return 0;\n",
      "      }\n",
      "\n",
      "      Presentation.prototype.start = function(){\n",
      "          this.restart();\n",
      "          this.resume();\n",
      "      }\n",
      "\n",
      "      Presentation.prototype.restart = function(){\n",
      "          this.ccell = 0;\n",
      "          delete this.avc;\n",
      "      }\n",
      "\n",
      "      Presentation.prototype.resume = function(){\n",
      "          this.create_toolbar();\n",
      "          $('#menubar, #pager_splitter, #pager, #header,#toolbar').addClass('pmode');\n",
      "          $('.cell').fadeOut();\n",
      "          if(this.current_is_marked()){\n",
      "              $('.cell:nth('+this.ccell+')').fadeIn();\n",
      "          } else {\n",
      "              for( var i=this.prev_marked_cell_n() ; i<= this.ccell; i++){\n",
      "                  $('.cell:nth('+i+')').fadeIn();\n",
      "              }\n",
      "          }\n",
      "          var that=this;\n",
      "          if(this.avc != undefined)\n",
      "            $(this.avc).button('option','label',that.eta())\n",
      "          return this;\n",
      "      }\n",
      "\n",
      "      Presentation.prototype.stop = function(){\n",
      "          $('.cell').fadeIn();\n",
      "          $('.pmode').removeClass('pmode');\n",
      "          $('div#notebook').removeClass('pove');\n",
      "          this.remove_toolbar();\n",
      "      }\n",
      "\n",
      "      Presentation.prototype.next = function(){\n",
      "          this.ccell = this.ccell+1;\n",
      "          var that = this;\n",
      "          if(this.ccell >= $('.cell').length ){\n",
      "              this.restart();\n",
      "              this.stop();\n",
      "              return;\n",
      "          }\n",
      "          var nnext = this.ccell;\n",
      "          var ncell = IPython.notebook.get_cell(nnext)\n",
      "\n",
      "          if(is_marked_cell(ncell)){\n",
      "              $('.cell').fadeOut(500);\n",
      "              setTimeout(function(){$('.cell:nth('+nnext+')').fadeIn(500)},600);\n",
      "          } else {\n",
      "              setTimeout(function(){$('.cell:nth('+nnext+')').fadeIn(500)},0);\n",
      "          }\n",
      "          $(this.avc).button('option','label',that.eta())\n",
      "          return this;\n",
      "      }\n",
      "\n",
      "      Presentation.prototype.next_group = function(){\n",
      "          this.ccell = this.next_marked_cell_n();\n",
      "          var that = this;\n",
      "          $('.cell').fadeOut(500);\n",
      "          setTimeout(function(){\n",
      "              $('.cell:nth('+that.ccell+')').fadeIn(500)\n",
      "                  },600);\n",
      "          $(this.avc).button('option','label',that.eta())\n",
      "      }\n",
      "\n",
      "      Presentation.prototype.prev_group = function(){\n",
      "          this.ccell = this.prev_marked_cell_n();\n",
      "          var that = this\n",
      "          $('.cell').fadeOut(500);\n",
      "          setTimeout(function(){$('.cell:nth('+that.ccell+')').fadeIn(500)},600);\n",
      "          $(this.avc).button('option','label',that.eta())\n",
      "      }\n",
      "\n",
      "      Presentation.prototype.is_n_marked = function(n){\n",
      "          return is_marked_cell(IPython.notebook.get_cell(n))\n",
      "      }\n",
      "\n",
      "      Presentation.prototype.current_is_marked = function(n){\n",
      "          return is_marked_cell(IPython.notebook.get_cell(this.ccell));\n",
      "      }\n",
      "\n",
      "      Presentation.prototype.prev = function(){\n",
      "          if(is_marked_cell(IPython.notebook.get_cell(this.ccell))){\n",
      "              var pmcell = this.prev_marked_cell_n();\n",
      "\n",
      "              $('.cell').fadeOut(500);\n",
      "              for( var i=pmcell; i< this.ccell ; i++ ){\n",
      "                  (function(val){\n",
      "                      return function(){\n",
      "                                  setTimeout( function(){\n",
      "                                      $('.cell:nth('+val+')').fadeIn(500)\n",
      "                                      },600);\n",
      "                      }\n",
      "                   })(i)();\n",
      "              }\n",
      "          } else {\n",
      "              $('.cell:nth('+this.ccell+')').fadeOut(500);\n",
      "          }\n",
      "          this.ccell = this.ccell -1;\n",
      "          return this;\n",
      "      }\n",
      "\n",
      "      IPython.Presentation = Presentation;\n",
      "      return IPython;\n",
      "\n",
      "}(IPython));\n",
      "\n",
      "IPython.slideshow = new IPython.Presentation();\n",
      "\n",
      "var sid = 'start_pmode'\n",
      "if(($('#'+sid)).length == 0) {\n",
      "      IPython.toolbar.addButtonsGroup([\n",
      "              {'label'  :'Start Slideshow',\n",
      "                'icon'  :'ui-icon-image',\n",
      "                'callback':function(){IPython.slideshow.resume()},'id':sid},\n",
      "          ])\n",
      "     }\n",
      "</script>\n"
     ]
    },
    {
     "cell_type": "markdown",
     "metadata": {},
     "source": [
      "---\n",
      "\n",
      "Introduction to Python (This Notebook)\n",
      "------------\n",
      "<!--====-->\n",
      "\n",
      "### Objectives\n",
      "\n",
      "1. You will understand how scripting languages fit into the toolbox of\n",
      "a computational scientist.\n",
      "2. You will see why Python is a powerful choice\n",
      "3. You will get a taste of Python for actual scientific computing\n",
      "\n",
      "The first part of this introduction is adapted from *Python\n",
      "Scripting for Computational Science* by Hans Petter Langtangen,\n",
      "material from Nathan Collier, and [the SciPy Lecture Notes](http://scipy-lectures.github.com/).\n",
      "\n",
      "![Books](/files/figures/books.png)\n"
     ]
    },
    {
     "cell_type": "markdown",
     "metadata": {},
     "source": [
      "Scripting vs Traditional programming\n",
      "------------------------------------\n",
      "<!--====-->\n",
      "\n",
      "In traditional programming, large applications are typically\n",
      "written at a low level. Scripting by contrast is programming at a\n",
      "very high level with flexible languages. \n",
      "\n",
      "> Traditional programming: fortran, c, c++, c#, java\n",
      ">\n",
      "> Scripting: python, perl, ruby, (matlab)\n",
      "\n",
      "A major thrust of scripting is that you can automate many tasks\n",
      "that otherwise you would do by hand.\n"
     ]
    },
    {
     "cell_type": "markdown",
     "metadata": {},
     "source": [
      "---\n",
      "\n",
      "Has this ever happened to you?\n",
      "------------------------------\n",
      "<!--====-->\n",
      "\n",
      "### Scenario 1\n",
      "You are working on data for a presentation your advisor is giving\n",
      "at a conference. At the last minute, you realize that there is a\n",
      "major bug in your code and you need to regenerate all the images\n",
      "and graphs that you have given him. You spend 30 minutes\n",
      "regenerating the data and 6 hours regenerating the graphs because\n",
      "you had them in Excel and had done them by hand.\n",
      "\n",
      "### Scenario 2\n",
      "You are working on your thesis and as you near the finish you\n",
      "review some graphs you generated months earlier and you aren't\n",
      "sure if they are now completely up to date. You spend half a day\n",
      "locating the old code that you wrote on your second laptop and\n",
      "hours more again creating and polishing the charts.\n"
     ]
    },
    {
     "cell_type": "markdown",
     "metadata": {},
     "source": [
      "---\n",
      "\n",
      "Buyer Beware\n",
      "------------\n",
      "<!--====-->\n",
      "\n",
      "Learning to automate many of these common tasks can greatly\n",
      "increase your productivity (and make your research\n",
      "reproducible). However, beware that there is no end to the number\n",
      "of different ways to do essentially the same thing. \n",
      "\n",
      "![Recall we want to script to SAVE time](/files/figures/careful.png)\n",
      "\n",
      "\n",
      "\t"
     ]
    },
    {
     "cell_type": "markdown",
     "metadata": {},
     "source": [
      "---\n",
      "\n",
      "Why scripting is useful\n",
      "-----------------------\n",
      "<!--====-->\n",
      "\n",
      "There are perhaps many reasons, here we list a few:\n",
      "\n",
      "* scripting languages have nicer interfaces\n",
      "* allow you to build your own work environment\n",
      "* scientific computing is more than crunching numbers\n",
      "* easier creation of GUIs and demos\n",
      "* create modern interfaces to old codes\n",
      "* allow you test interactively\n",
      "* cleaner, shorter, easy to read code"
     ]
    },
    {
     "cell_type": "markdown",
     "metadata": {},
     "source": [
      "---\n",
      "\n",
      "Is Python > MATLAB?\n",
      "-------------------\n",
      "<!--====-->\n",
      "\n",
      "### Similarities\n",
      "\n",
      "* no mandatory variable declaration (dynamic typing)\n",
      "* simple and easy to use syntax\n",
      "* easy creation of GUIs\n",
      "* merges simulation and visualization\n",
      "\n",
      "### Differences\n",
      "\n",
      "* Python was designed to be completely open and to be integrated with external tools\n",
      "* A Python module may contain a lot of functions and classes (compared to many m-files)\n",
      "* Object-oriented programming is more convenient\n",
      "* Interfacing C,C++,Fortran is better supported, this is important for running fast, parallel code\n",
      "* scalar functions typically work with array arguments without changes to the arithmetic operators\n",
      "* Python is FREE and runs on any platform C does, including supercomputers!\n"
     ]
    },
    {
     "cell_type": "markdown",
     "metadata": {},
     "source": [
      "---\n",
      "\n",
      "The right tool for the job\n",
      "--------------------------\n",
      "<!--====-->\n",
      "\n",
      "Many times people are looking for an easy way out. Scripting is\n",
      "easier to use, but not well suited for every situation. How do\n",
      "you know which tool is right for the job?\n",
      "\n",
      "### Traditional programming\n",
      "\n",
      "* Does the application implement complex algorithms and/or data structures where low level control of implementation details is critical? \n",
      "* Does the application manipulate large datasets and thus the memory has to be carefully controlled?\n",
      "* Are you not likely to be changing the code once it is programmed?\n",
      "\n",
      "### Scripting\n",
      "\n",
      "* Your application's main task is to connected existing components\n",
      "* The application depends on manipulating text\n",
      "* The design of the application is expected to change over its life\n",
      "* The CPU-intensive parts of your application may be migrated to C or Fortran\n",
      "* Your application is largely based on common objects found in computer science\n"
     ]
    },
    {
     "cell_type": "markdown",
     "metadata": {},
     "source": [
      "---\n",
      "\n",
      "Some Sample Applications\n",
      "========================\n",
      "<!--====-->"
     ]
    },
    {
     "cell_type": "markdown",
     "metadata": {},
     "source": [
      "---\n",
      "\n",
      "Teaching the finite element method\n",
      "----------------------------------\n",
      "<!--====-->\n",
      "\n",
      "### Stiffness matrix computation\n",
      "\n",
      "![Stiffness matrix](/files/figures/fem.png)\n"
     ]
    },
    {
     "cell_type": "markdown",
     "metadata": {},
     "source": [
      "---\n",
      "\n",
      "Monitor program progress\n",
      "------------------------\n",
      "<!--====-->\n",
      "\n",
      "### Python parses a datafile and makes plots of current progress\n",
      "\n",
      "![Log](/files/figures/log.png)\n"
     ]
    },
    {
     "cell_type": "markdown",
     "metadata": {},
     "source": [
      "---\n",
      "\n",
      "Problem prototypes\n",
      "------------------\n",
      "<!--====-->\n",
      "\n",
      "### Nonlinear, time dependent problem\n",
      "\n",
      "![NonLinear problem](/files/figures/dsw.png)"
     ]
    },
    {
     "cell_type": "markdown",
     "metadata": {},
     "source": [
      "---\n",
      "\n",
      "Problem prototypes\n",
      "------------------\n",
      "<!--====-->\n",
      "\n",
      "### Method for fitting surface to data\n",
      "\n",
      "![Prototypes](/files/figures/molt.png)\n"
     ]
    },
    {
     "cell_type": "markdown",
     "metadata": {},
     "source": [
      "\n",
      "---\n",
      "\n",
      "Structural program\n",
      "------------------\n",
      "<!--====-->\n",
      "\n",
      "### Python manages floors and columns\n",
      "\n",
      "![Structural program](/files/figures/struct.png)"
     ]
    },
    {
     "cell_type": "markdown",
     "metadata": {},
     "source": [
      "---\n",
      "\n",
      "Auto-generation of results\n",
      "--------------------------\n",
      "<!--====-->\n",
      "\n",
      "### Python runs C code, post-processes the results, and generates a LaTeX table\n",
      "\n",
      "![Result Generation](/files/figures/dpg.png)\n"
     ]
    },
    {
     "cell_type": "markdown",
     "metadata": {},
     "source": [
      "\n",
      "---\n",
      "\n",
      "Beginner's Guide\n",
      "================\n",
      "<!--====-->"
     ]
    },
    {
     "cell_type": "markdown",
     "metadata": {},
     "source": [
      "---\n",
      "\n",
      "Scientific Hello World\n",
      "--------\n",
      "<!--====-->\n",
      "    "
     ]
    },
    {
     "cell_type": "code",
     "collapsed": false,
     "input": [
      "#!/usr/bin/env python\n",
      "import math\n",
      "r = math.pi / 2.0\n",
      "s = math.sin(r)\n",
      "print \"Hello world, sin(%f)=%f\" % (r,s)\n"
     ],
     "language": "python",
     "metadata": {},
     "outputs": [
      {
       "output_type": "stream",
       "stream": "stdout",
       "text": [
        "Hello world, sin(1.570796)=1.000000\n"
       ]
      }
     ],
     "prompt_number": 1
    },
    {
     "cell_type": "markdown",
     "metadata": {},
     "source": [
      "---\n",
      "\n",
      "Simple I/O\n",
      "--------\n",
      "<!--====-->\n",
      "    "
     ]
    },
    {
     "cell_type": "code",
     "collapsed": false,
     "input": [
      "import math\n",
      "infile = \"data/numbers\"\n",
      "outfile = \"data/f_numbers\"\n",
      "\n",
      "f = open(infile,'r')\n",
      "g = open(outfile,'w')\n",
      "\n",
      "def func(y):\n",
      "    if y >= 0.0:\n",
      "        return y**5.0*math.exp(-y)\n",
      "    else:\n",
      "        return 0.0\n",
      "    \n",
      "for line in f:\n",
      "    line = line.split()\n",
      "    x = float(line[0])\n",
      "    y = float(line[1])\n",
      "    fy = func(y)\n",
      "    g.write(\"%g %12.5e\\n\" % (x,fy))\n",
      "    \n",
      "f.close() \n",
      "g.close()\n"
     ],
     "language": "python",
     "metadata": {},
     "outputs": [],
     "prompt_number": 2
    },
    {
     "cell_type": "markdown",
     "metadata": {},
     "source": [
      "---\n",
      "\n",
      "How to format the print statement, just like C!\n",
      "-------------\n",
      "<!--====-->\n",
      "\n",
      "![format](/files/figures/tbl.png)\n",
      "    "
     ]
    },
    {
     "cell_type": "markdown",
     "metadata": {},
     "source": [
      "---\n",
      "\n",
      "Interacting with the system\n",
      "--------\n",
      "<!--====-->\n",
      "    "
     ]
    },
    {
     "cell_type": "code",
     "collapsed": false,
     "input": [
      "import sys,os\n",
      "cmd = 'date'\n",
      "output = os.popen(cmd)\n",
      "lines = output.readlines()\n",
      "fail = output.close()\n",
      "if fail: print 'You do not have the date command'; sys.exit()\n",
      "for line in lines:\n",
      "    line = line.split()\n",
      "    print \"The current time is %s on %s %s, %s\" % (line[3],line[2],line[1],line[-1])"
     ],
     "language": "python",
     "metadata": {},
     "outputs": [
      {
       "output_type": "stream",
       "stream": "stdout",
       "text": [
        "The current time is 21:14:25 on 13 Oct, 2012\n"
       ]
      }
     ],
     "prompt_number": 3
    },
    {
     "cell_type": "markdown",
     "metadata": {},
     "source": [
      "---\n",
      "\n",
      "\n",
      "Regular expressions\n",
      "--------\n",
      "<!--====-->\n",
      "    \n",
      "### A bib-file (see data/test.bib)\n",
      "\n",
      "\n",
      "    @Book{Langtangen2011,\n",
      "      author = \t  {Hans Petter Langtangen},\n",
      "      title = \t  {A Primer on Scientific Programming with Python},\n",
      "      publisher = {Springer},\n",
      "      year = \t  {2011}\n",
      "    }\n",
      "    @Book{Langtangen2010,\n",
      "      author = \t  {Hans Petter Langtangen},\n",
      "      title = \t  {Python Scripting for Computational Science},\n",
      "      publisher = {Springer},\n",
      "      year = \t  {2010}\n",
      "    }\n"
     ]
    },
    {
     "cell_type": "code",
     "collapsed": false,
     "input": [
      "import re\n",
      "pattern1 = \"@Book{(.*),\"\n",
      "pattern2 = \"\\s+title\\s+=\\s+{(.*)},\"\n",
      "for line in file('data/test.bib'):\n",
      "    match = re.search(pattern1,line)\n",
      "    if match: \n",
      "        print \"Found a book with the tag '%s'\" % match.group(1)\n",
      "    match = re.search(pattern2,line)\n",
      "    if match:\n",
      "        print \"The title is '%s'\" % match.group(1)"
     ],
     "language": "python",
     "metadata": {},
     "outputs": [
      {
       "output_type": "stream",
       "stream": "stdout",
       "text": [
        "Found a book with the tag 'Langtangen2011'\n",
        "The title is 'A Primer on Scientific Programming with Python'\n",
        "Found a book with the tag 'Langtangen2010'\n",
        "The title is 'Python Scripting for Computational Science'\n"
       ]
      }
     ],
     "prompt_number": 4
    },
    {
     "cell_type": "markdown",
     "metadata": {},
     "source": [
      "---\n",
      "\n",
      "Arrays\n",
      "-------------------\n",
      "<!--====-->\n",
      "\n",
      "**Python** has built-in:\n",
      "\n",
      "containers: lists (costless insertion and append), dictionaries (fast lookup)  \n",
      "high-level number objects: integers, floating point  \n",
      "\n",
      "**Numpy** is:\n",
      "\n",
      "extension package to Python for multi-dimensional arrays  \n",
      "closer to hardware (efficiency)  \n",
      "designed for scientific computation (convenience)  \n"
     ]
    },
    {
     "cell_type": "code",
     "collapsed": false,
     "input": [
      "a = array([0,1,2,3,4])\n",
      "a"
     ],
     "language": "python",
     "metadata": {},
     "outputs": [
      {
       "output_type": "pyout",
       "prompt_number": 5,
       "text": [
        "array([0, 1, 2, 3, 4])"
       ]
      }
     ],
     "prompt_number": 5
    },
    {
     "cell_type": "code",
     "collapsed": false,
     "input": [
      "print a.ndim # Dimensionality\n",
      "print a.shape # Shape"
     ],
     "language": "python",
     "metadata": {},
     "outputs": [
      {
       "output_type": "stream",
       "stream": "stdout",
       "text": [
        "1\n",
        "(5,)\n"
       ]
      }
     ],
     "prompt_number": 6
    },
    {
     "cell_type": "code",
     "collapsed": false,
     "input": [
      "b = np.array([[0, 1, 2], [3, 4, 5]])\n",
      "print b\n",
      "print b.ndim\n",
      "print b.shape"
     ],
     "language": "python",
     "metadata": {},
     "outputs": [
      {
       "output_type": "stream",
       "stream": "stdout",
       "text": [
        "[[0 1 2]\n",
        " [3 4 5]]\n",
        "2\n",
        "(2, 3)\n"
       ]
      }
     ],
     "prompt_number": 7
    },
    {
     "cell_type": "markdown",
     "metadata": {},
     "source": [
      "---\n",
      "\n",
      "Common Arrays\n",
      "-------------------\n",
      "<!--====-->\n"
     ]
    },
    {
     "cell_type": "code",
     "collapsed": false,
     "input": [
      "print arange(10) # Like range [0, 1, ..., 9]\n",
      "print arange(1,9, 2) # [1, 3, 5, 7]"
     ],
     "language": "python",
     "metadata": {},
     "outputs": [
      {
       "output_type": "stream",
       "stream": "stdout",
       "text": [
        "[0 1 2 3 4 5 6 7 8 9]\n",
        "[1 3 5 7]\n"
       ]
      }
     ],
     "prompt_number": 8
    },
    {
     "cell_type": "code",
     "collapsed": false,
     "input": [
      "print linspace(0, 1, 6) # A linear space of [0,1] with 6 pts\n",
      "print linspace(0, 1, 6, endpoint=False) # [0,1["
     ],
     "language": "python",
     "metadata": {},
     "outputs": [
      {
       "output_type": "stream",
       "stream": "stdout",
       "text": [
        "[ 0.   0.2  0.4  0.6  0.8  1. ]\n",
        "[ 0.          0.16666667  0.33333333  0.5         0.66666667  0.83333333]\n"
       ]
      }
     ],
     "prompt_number": 9
    },
    {
     "cell_type": "code",
     "collapsed": false,
     "input": [
      "print np.ones((3,3)) # 3 X 3 2D array of 1's"
     ],
     "language": "python",
     "metadata": {},
     "outputs": [
      {
       "output_type": "stream",
       "stream": "stdout",
       "text": [
        "[[ 1.  1.  1.]\n",
        " [ 1.  1.  1.]\n",
        " [ 1.  1.  1.]]\n"
       ]
      }
     ],
     "prompt_number": 10
    },
    {
     "cell_type": "code",
     "collapsed": false,
     "input": [
      "print np.eye(3)"
     ],
     "language": "python",
     "metadata": {},
     "outputs": [
      {
       "output_type": "stream",
       "stream": "stdout",
       "text": [
        "[[ 1.  0.  0.]\n",
        " [ 0.  1.  0.]\n",
        " [ 0.  0.  1.]]\n"
       ]
      }
     ],
     "prompt_number": 11
    },
    {
     "cell_type": "code",
     "collapsed": false,
     "input": [
      "print np.diag(arange(4))"
     ],
     "language": "python",
     "metadata": {},
     "outputs": [
      {
       "output_type": "stream",
       "stream": "stdout",
       "text": [
        "[[0 0 0 0]\n",
        " [0 1 0 0]\n",
        " [0 0 2 0]\n",
        " [0 0 0 3]]\n"
       ]
      }
     ],
     "prompt_number": 12
    },
    {
     "cell_type": "code",
     "collapsed": false,
     "input": [
      "print random.rand(4) # Uniform distribution\n",
      "print random.randn(4) # Gaussian distribution"
     ],
     "language": "python",
     "metadata": {},
     "outputs": [
      {
       "output_type": "stream",
       "stream": "stdout",
       "text": [
        "[ 0.72129428  0.34175057  0.7831168   0.25157102]\n",
        "[-0.604022    1.41449551 -0.94909735  2.1459319 ]\n"
       ]
      }
     ],
     "prompt_number": 13
    },
    {
     "cell_type": "markdown",
     "metadata": {},
     "source": [
      "---\n",
      "## Other Numpy Features to be aware of\n",
      "<!--====-->\n",
      "\n",
      "* Reshaping"
     ]
    },
    {
     "cell_type": "code",
     "collapsed": false,
     "input": [
      "arr = arange(1000000)\n",
      "arr2 = arr.reshape((10,100000))\n",
      "print(arr2)"
     ],
     "language": "python",
     "metadata": {},
     "outputs": [
      {
       "output_type": "stream",
       "stream": "stdout",
       "text": [
        "[[     0      1      2 ...,  99997  99998  99999]\n",
        " [100000 100001 100002 ..., 199997 199998 199999]\n",
        " [200000 200001 200002 ..., 299997 299998 299999]\n",
        " ..., \n",
        " [700000 700001 700002 ..., 799997 799998 799999]\n",
        " [800000 800001 800002 ..., 899997 899998 899999]\n",
        " [900000 900001 900002 ..., 999997 999998 999999]]\n"
       ]
      }
     ],
     "prompt_number": 14
    },
    {
     "cell_type": "markdown",
     "metadata": {},
     "source": [
      "* Memory Views"
     ]
    },
    {
     "cell_type": "code",
     "collapsed": false,
     "input": [
      "arr2.view?"
     ],
     "language": "python",
     "metadata": {},
     "outputs": [],
     "prompt_number": 15
    },
    {
     "cell_type": "markdown",
     "metadata": {},
     "source": [
      "* Index Slicing"
     ]
    },
    {
     "cell_type": "code",
     "collapsed": false,
     "input": [
      "x = np.arange(0, 20, 2); y = x**2\n",
      "((y[1:] - y[:-1]) / (x[1:] - x[:-1])) # dy/dx"
     ],
     "language": "python",
     "metadata": {},
     "outputs": [
      {
       "output_type": "pyout",
       "prompt_number": 16,
       "text": [
        "array([ 2,  6, 10, 14, 18, 22, 26, 30, 34])"
       ]
      }
     ],
     "prompt_number": 16
    },
    {
     "cell_type": "code",
     "collapsed": false,
     "input": [
      "((y[2:] - y[:-2])/(x[2:] - x[:-2])) # d^2y/dx^2 via center differencing"
     ],
     "language": "python",
     "metadata": {},
     "outputs": [
      {
       "output_type": "pyout",
       "prompt_number": 17,
       "text": [
        "array([ 4,  8, 12, 16, 20, 24, 28, 32])"
       ]
      }
     ],
     "prompt_number": 17
    },
    {
     "cell_type": "markdown",
     "metadata": {},
     "source": [
      "* Fancy Indexing"
     ]
    },
    {
     "cell_type": "code",
     "collapsed": false,
     "input": [
      "evens = arr[arr%2 == 0]\n",
      "print(evens)"
     ],
     "language": "python",
     "metadata": {},
     "outputs": [
      {
       "output_type": "stream",
       "stream": "stdout",
       "text": [
        "[     0      2      4 ..., 999994 999996 999998]\n"
       ]
      }
     ],
     "prompt_number": 18
    },
    {
     "cell_type": "markdown",
     "metadata": {},
     "source": [
      "---\n",
      "\n",
      "LinAlg, FFTs, and Random numbers\n",
      "-------------------\n",
      "<!--====-->"
     ]
    },
    {
     "cell_type": "code",
     "collapsed": false,
     "input": [
      "dot(arange(10), arange(10))"
     ],
     "language": "python",
     "metadata": {},
     "outputs": [
      {
       "output_type": "pyout",
       "prompt_number": 19,
       "text": [
        "285"
       ]
      }
     ],
     "prompt_number": 19
    },
    {
     "cell_type": "code",
     "collapsed": false,
     "input": [
      "dot(arange(9).reshape(3,3),\n",
      "    arange(9).reshape(3,3))"
     ],
     "language": "python",
     "metadata": {},
     "outputs": [
      {
       "output_type": "pyout",
       "prompt_number": 20,
       "text": [
        "array([[ 15,  18,  21],\n",
        "       [ 42,  54,  66],\n",
        "       [ 69,  90, 111]])"
       ]
      }
     ],
     "prompt_number": 20
    },
    {
     "cell_type": "code",
     "collapsed": false,
     "input": [
      "np.fft?"
     ],
     "language": "python",
     "metadata": {},
     "outputs": [],
     "prompt_number": 21
    },
    {
     "cell_type": "code",
     "collapsed": false,
     "input": [
      "np.linalg?"
     ],
     "language": "python",
     "metadata": {},
     "outputs": [],
     "prompt_number": 22
    },
    {
     "cell_type": "code",
     "collapsed": false,
     "input": [
      "np.random?"
     ],
     "language": "python",
     "metadata": {},
     "outputs": [],
     "prompt_number": 23
    },
    {
     "cell_type": "markdown",
     "metadata": {},
     "source": [
      "---\n",
      "\n",
      "Quick Visualization / MatPlotLib\n",
      "-------------------\n",
      "<!--====-->\n",
      "\n",
      "How quickly can we plot 10K numbers?\n"
     ]
    },
    {
     "cell_type": "code",
     "collapsed": false,
     "input": [
      "_ = hist(random.randn(100000), 100)"
     ],
     "language": "python",
     "metadata": {},
     "outputs": [
      {
       "output_type": "display_data",
       "png": "[encoded data removed]"
      }
     ],
     "prompt_number": 24
    },
    {
     "cell_type": "markdown",
     "metadata": {},
     "source": [
      "---\n",
      "\n",
      "Basic Plotting\n",
      "-------------------\n",
      "<!--====-->\n"
     ]
    },
    {
     "cell_type": "code",
     "collapsed": false,
     "input": [
      "_ = plot(range(100))\n",
      "_ = xlabel(\"measured\")\n",
      "_ = ylabel(\"calculated\")\n",
      "grid(True)"
     ],
     "language": "python",
     "metadata": {},
     "outputs": [
      {
       "output_type": "display_data",
       "png": "[encoded data removed]"
      }
     ],
     "prompt_number": 25
    },
    {
     "cell_type": "code",
     "collapsed": false,
     "input": [
      "x = [val*.01 for val in range(100)]  # [0, .01, .02, ..., .98, .99]\n",
      "linear = [val for val in x] \n",
      "square = [val**2 for val in x]\n",
      "_ = plot(x, linear, x, square)"
     ],
     "language": "python",
     "metadata": {},
     "outputs": [
      {
       "output_type": "display_data",
       "png": "[encoded data removed]"
      }
     ],
     "prompt_number": 26
    },
    {
     "cell_type": "code",
     "collapsed": false,
     "input": [
      "num_vals = 10\n",
      "x = [float(val)/num_vals for val in range(num_vals)]  # [0, .01, .02, ..., .98, .99]\n",
      "linear = [val for val in x] \n",
      "square = [val**2 for val in x]\n",
      "_= plot(x, linear, 'g:+', x, square, 'r--o')"
     ],
     "language": "python",
     "metadata": {},
     "outputs": [
      {
       "output_type": "display_data",
       "png": "[encoded data removed]"
      }
     ],
     "prompt_number": 27
    },
    {
     "cell_type": "code",
     "collapsed": false,
     "input": [
      "num_vals = 10\n",
      "x = [float(val)/num_vals for val in range(num_vals)]  # [0, .01, .02, ..., .98, .99]\n",
      "linear = [val for val in x] \n",
      "square = [val**2 for val in x]\n",
      "_ = plot(x, linear, 'g:+', x, square, 'r--o')\n",
      "_ = legend(('linear', 'square'), loc='upper left')"
     ],
     "language": "python",
     "metadata": {},
     "outputs": [
      {
       "output_type": "display_data",
       "png": "[encoded data removed]"
      }
     ],
     "prompt_number": 28
    },
    {
     "cell_type": "code",
     "collapsed": false,
     "input": [
      "_ = plot(linear)\n",
      "_ = axes([0.2, 0.5, 0.25, 0.25])\n",
      "_ = plot(square)"
     ],
     "language": "python",
     "metadata": {},
     "outputs": [
      {
       "output_type": "display_data",
       "png": "[encoded data removed]"
      }
     ],
     "prompt_number": 29
    },
    {
     "cell_type": "markdown",
     "metadata": {},
     "source": [
      "---\n",
      "SciPy: Collection of High-Level Tools\n",
      "--------------------------------------\n",
      "<!--====-->\n",
      "\n",
      "\n",
      "* mathematical algorithms and convenience functions built on the Numpy,\n",
      "* organized into subpackages covering different scientific computing domains,\n",
      "* a data-processing and system-prototyping environment rivaling sytems such as MATLAB, IDL, Octave, R-Lab, and SciLab\n"
     ]
    },
    {
     "cell_type": "markdown",
     "metadata": {},
     "source": [
      "---\n",
      "SciPy: Collection of High-Level Tools\n",
      "--------------------------------------\n",
      "<!--====-->\n",
      "\n",
      "* File IO (scipy.io)\n",
      "* Special functions (scipy.special)\n",
      "* Integration (scipy.integrate)\n",
      "* Optimization (scipy.optimize)\n",
      "* Interpolation (scipy.interpolate)\n",
      "* Fourier Transforms (scipy.fftpack)\n",
      "* Signal Processing (scipy.signal)\n",
      "* Linear Algebra (scipy.linalg)\n",
      "* Sparse Eigenvalue Problems with ARPACK\n",
      "* Statistics (scipy.stats)\n",
      "* Multi-dimensional image processing (scipy.ndimage)\n",
      "* Weave (scipy.weave)"
     ]
    },
    {
     "cell_type": "markdown",
     "metadata": {},
     "source": [
      "---\n",
      "scipy.io\n",
      "--------\n",
      "<!--====-->\n",
      "\n"
     ]
    },
    {
     "cell_type": "code",
     "collapsed": false,
     "input": [
      "import scipy\n",
      "from scipy import io as spio\n",
      "a = np.ones((3, 3))\n",
      "spio.savemat('file.mat', {'a': a}) # savemat expects a dictionary\n",
      "data = spio.loadmat('file.mat', struct_as_record=True)\n",
      "data['a']\n"
     ],
     "language": "python",
     "metadata": {},
     "outputs": [
      {
       "output_type": "stream",
       "stream": "stderr",
       "text": [
        "/opt/local/Library/Frameworks/Python.framework/Versions/2.7/lib/python2.7/site-packages/scipy/io/matlab/mio.py:266: FutureWarning: Using oned_as default value ('column') This will change to 'row' in future versions\n",
        "  oned_as=oned_as)\n"
       ]
      },
      {
       "output_type": "pyout",
       "prompt_number": 30,
       "text": [
        "array([[ 1.,  1.,  1.],\n",
        "       [ 1.,  1.,  1.],\n",
        "       [ 1.,  1.,  1.]])"
       ]
      }
     ],
     "prompt_number": 30
    },
    {
     "cell_type": "markdown",
     "metadata": {},
     "source": [
      "Also see:\n",
      "\n",
      "* Images\n",
      "* IDL Files\n",
      "* Matrix Market Files\n",
      "* Wav files"
     ]
    },
    {
     "cell_type": "markdown",
     "metadata": {},
     "source": [
      "---\n",
      "scipy.special\n",
      "--------\n",
      "<!--====-->\n",
      "\n",
      "* Bessel function, such as scipy.special.jn() (nth integer order Bessel function)\n",
      "* Elliptic function (scipy.special.ellipj() for the Jacobian elliptic function, ...)\n",
      "* Gamma function: scipy.special.gamma(), also note scipy.special.gammaln() which will give the log of Gamma to a higher numerical precision.\n",
      "* Erf, the area under a Gaussian curve: scipy.special.erf()\n"
     ]
    },
    {
     "cell_type": "code",
     "collapsed": false,
     "input": [
      "from scipy.special import jn\n",
      "x = np.linspace(0, 1, 10)\n",
      "print [jn(val, 1.0) for val in x]\n"
     ],
     "language": "python",
     "metadata": {},
     "outputs": [
      {
       "output_type": "stream",
       "stream": "stdout",
       "text": [
        "[0.76519768655796649, 0.77042135015704238, 0.75775886140714455, 0.73087640216944849, 0.69324418101264496, 0.64801456180958794, 0.59794997367362868, 0.54539073261127002, 0.49225331977915776, 0.44005058574493355]\n"
       ]
      }
     ],
     "prompt_number": 31
    },
    {
     "cell_type": "code",
     "collapsed": false,
     "input": [
      "from scipy import *\n",
      "from scipy.special import jn, jn_zeros\n",
      "def drumhead_height(n, k, distance, angle, t):\n",
      "    nth_zero = jn_zeros(n, k)\n",
      "    return cos(t)*cos(n*angle)*jn(n, distance*nth_zero)\n",
      "theta = r_[0:2*pi:50j]\n",
      "radius = r_[0:1:50j]\n",
      "x = array([r*cos(theta) for r in radius])\n",
      "y = array([r*sin(theta) for r in radius])\n",
      "z = array([drumhead_height(1, 1, r, theta, 0.5) for r in radius])"
     ],
     "language": "python",
     "metadata": {},
     "outputs": [],
     "prompt_number": 32
    },
    {
     "cell_type": "code",
     "collapsed": false,
     "input": [
      "from mpl_toolkits.mplot3d import Axes3D\n",
      "from matplotlib import cm\n",
      "fig = pylab.figure()\n",
      "ax = Axes3D(fig)\n",
      "ax.plot_surface(x, y, z, rstride=1, cstride=1, cmap=cm.jet)\n",
      "_ = ax.set_xlabel('X')\n",
      "_ = ax.set_ylabel('Y')\n",
      "_ = ax.set_zlabel('Z')"
     ],
     "language": "python",
     "metadata": {},
     "outputs": [
      {
       "output_type": "display_data",
       "png": "[encoded data removed]"
      }
     ],
     "prompt_number": 33
    },
    {
     "cell_type": "markdown",
     "metadata": {},
     "source": [
      "---\n",
      "scipy.linalg\n",
      "--------\n",
      "<!--====-->\n",
      "\n",
      "* Matrix class (all routines still work with 2D NumPy arrays)\n",
      "* Basic Linear Algebra\n",
      "* Decompositions\n",
      "* Matrix Functions\n",
      "* Special matrices\n"
     ]
    },
    {
     "cell_type": "code",
     "collapsed": false,
     "input": [
      "A = mat('[1 3 5; 2 5 1; 2 3 8]')\n",
      "A"
     ],
     "language": "python",
     "metadata": {},
     "outputs": [
      {
       "output_type": "pyout",
       "prompt_number": 34,
       "text": [
        "matrix([[1, 3, 5],\n",
        "        [2, 5, 1],\n",
        "        [2, 3, 8]])"
       ]
      }
     ],
     "prompt_number": 34
    },
    {
     "cell_type": "code",
     "collapsed": false,
     "input": [
      "A.I"
     ],
     "language": "python",
     "metadata": {},
     "outputs": [
      {
       "output_type": "pyout",
       "prompt_number": 35,
       "text": [
        "matrix([[-1.48,  0.36,  0.88],\n",
        "        [ 0.56,  0.08, -0.36],\n",
        "        [ 0.16, -0.12,  0.04]])"
       ]
      }
     ],
     "prompt_number": 35
    },
    {
     "cell_type": "code",
     "collapsed": false,
     "input": [
      "from scipy import linalg\n",
      "linalg.inv(A)"
     ],
     "language": "python",
     "metadata": {},
     "outputs": [
      {
       "output_type": "pyout",
       "prompt_number": 36,
       "text": [
        "array([[-1.48,  0.36,  0.88],\n",
        "       [ 0.56,  0.08, -0.36],\n",
        "       [ 0.16, -0.12,  0.04]])"
       ]
      }
     ],
     "prompt_number": 36
    },
    {
     "cell_type": "code",
     "collapsed": false,
     "input": [
      "linalg.svd(A)"
     ],
     "language": "python",
     "metadata": {},
     "outputs": [
      {
       "output_type": "pyout",
       "prompt_number": 37,
       "text": [
        "(array([[-0.52956045,  0.04298197, -0.84718255],\n",
        "       [-0.34647857, -0.92256717,  0.16977167],\n",
        "       [-0.77428569,  0.38343496,  0.50344742]]),\n",
        " array([ 11.13385134,   4.2134737 ,   0.53291053]),\n",
        " array([[-0.24888863, -0.50691635, -0.82528193],\n",
        "       [-0.24570758, -0.79117262,  0.56006577],\n",
        "       [ 0.93684696, -0.34217203, -0.07236068]]))"
       ]
      }
     ],
     "prompt_number": 37
    },
    {
     "cell_type": "code",
     "collapsed": false,
     "input": [
      "linalg.toeplitz([1,2,3],[1,2,4,5,6])"
     ],
     "language": "python",
     "metadata": {},
     "outputs": [
      {
       "output_type": "pyout",
       "prompt_number": 38,
       "text": [
        "array([[1, 2, 4, 5, 6],\n",
        "       [2, 1, 2, 4, 5],\n",
        "       [3, 2, 1, 2, 4]])"
       ]
      }
     ],
     "prompt_number": 38
    },
    {
     "cell_type": "markdown",
     "metadata": {},
     "source": [
      "---\n",
      "\n",
      "Pattern Formation\n",
      "------------------\n",
      "<!--====-->"
     ]
    },
    {
     "cell_type": "code",
     "collapsed": true,
     "input": [
      "from IPython.display import clear_output\n",
      "\n",
      "\n",
      "\"\"\"Pattern formation code\n",
      "\n",
      "    Solves the pair of PDEs:\n",
      "       u_t = D_1 \\nabla^2 u + f(u,v)\n",
      "       v_t = D_2 \\nabla^2 v + g(u,v)\n",
      "\"\"\"\n",
      "\n",
      "#import matplotlib\n",
      "#matplotlib.use('TkAgg')\n",
      "import numpy as np\n",
      "#import matplotlib.pyplot as plt\n",
      "from scipy.sparse import spdiags,linalg,eye\n",
      "from time import sleep\n",
      "\n",
      "#Parameter values\n",
      "Du=0.500; Dv=1;\n",
      "delta=0.0045; tau1=0.02; tau2=0.2; alpha=0.899; beta=-0.91; gamma=-alpha;\n",
      "#delta=0.0045; tau1=0.02; tau2=0.2; alpha=1.9; beta=-0.91; gamma=-alpha;\n",
      "#delta=0.0045; tau1=2.02; tau2=0.; alpha=2.0; beta=-0.91; gamma=-alpha;\n",
      "#delta=0.0021; tau1=3.5; tau2=0; alpha=0.899; beta=-0.91; gamma=-alpha;\n",
      "#delta=0.0045; tau1=0.02; tau2=0.2; alpha=1.9; beta=-0.85; gamma=-alpha;\n",
      "#delta=0.0001; tau1=0.02; tau2=0.2; alpha=0.899; beta=-0.91; gamma=-alpha;\n",
      "#delta=0.0005; tau1=2.02; tau2=0.; alpha=2.0; beta=-0.91; gamma=-alpha; nx=150;\n",
      "\n",
      "#Define the reaction functions\n",
      "def f(u,v):\n",
      "    return alpha*u*(1-tau1*v**2) + v*(1-tau2*u);\n",
      "\n",
      "def g(u,v):\n",
      "    return beta*v*(1+alpha*tau1/beta*u*v) + u*(gamma+tau2*v);\n",
      "\n",
      "\n",
      "def five_pt_laplacian(m,a,b):\n",
      "    \"\"\"Construct a matrix that applies the 5-point laplacian discretization\"\"\"\n",
      "    e=np.ones(m**2)\n",
      "    e2=([0]+[1]*(m-1))*m\n",
      "    h=(b-a)/(m+1)\n",
      "    A=np.diag(-4*e,0)+np.diag(e2[1:],-1)+np.diag(e2[1:],1)+np.diag(e[m:],m)+np.diag(e[m:],-m)\n",
      "    A/=h**2\n",
      "    return A\n",
      "\n",
      "def five_pt_laplacian_sparse(m,a,b):\n",
      "    \"\"\"Construct a sparse matrix that applies the 5-point laplacian discretization\"\"\"\n",
      "    e=np.ones(m**2)\n",
      "    e2=([1]*(m-1)+[0])*m\n",
      "    e3=([0]+[1]*(m-1))*m\n",
      "    h=(b-a)/(m+1)\n",
      "    A=spdiags([-4*e,e2,e3,e,e],[0,-1,1,-m,m],m**2,m**2)\n",
      "    A/=h**2\n",
      "    return A\n",
      "\n",
      "# Set up the grid\n",
      "a=-1.; b=1.\n",
      "m=100; h=(b-a)/m; \n",
      "x = np.linspace(-1,1,m)\n",
      "y = np.linspace(-1,1,m)\n",
      "Y,X = np.meshgrid(y,x)\n",
      "\n",
      "# Initial data\n",
      "u=np.random.randn(m,m)/2.;\n",
      "v=np.random.randn(m,m)/2.;\n",
      "hold(False)\n",
      "plt.pcolormesh(x,y,u)\n",
      "plt.colorbar; plt.axis('image'); \n",
      "plt.draw()\n",
      "u=u.reshape(-1)\n",
      "v=v.reshape(-1)\n",
      "\n",
      "A=five_pt_laplacian_sparse(m,-1.,1.);\n",
      "II=eye(m*m,m*m)\n",
      "\n",
      "t=0.\n",
      "dt=h/delta/5.;\n",
      "fig, ax = plt.subplots()\n",
      "plt.colorbar\n",
      "\n",
      "#Now step forward in time\n",
      "for k in range(120):\n",
      "    #Simple (1st-order) operator splitting:\n",
      "    u = linalg.spsolve(II-dt*delta*Du*A,u)\n",
      "    v = linalg.spsolve(II-dt*delta*Dv*A,v)\n",
      "\n",
      "    unew=u+dt*f(u,v);\n",
      "    v   =v+dt*g(u,v);\n",
      "    u=unew;\n",
      "    t=t+dt;\n",
      "\n",
      "    #Plot every 3rd frame\n",
      "    if k/3==float(k)/3:\n",
      "        U=u.reshape((m,m))\n",
      "        ax.pcolormesh(x,y,U)\n",
      "        #ax.colorbar\n",
      "        ax.axis('image')\n",
      "        ax.set_title(str(t))\n",
      "        #ax.draw()\n",
      "        clear_output()\n",
      "        display(fig)\n",
      "\n",
      "plt.close()"
     ],
     "language": "python",
     "metadata": {},
     "outputs": [
      {
       "output_type": "display_data",
       "png": "[encoded data removed]",
       "text": [
        "<matplotlib.figure.Figure at 0x1077bb490>"
       ]
      },
      {
       "output_type": "display_data",
       "png": "[encoded data removed]"
      }
     ],
     "prompt_number": 39
    }
   ],
   "metadata": {}
  }
 ]
}