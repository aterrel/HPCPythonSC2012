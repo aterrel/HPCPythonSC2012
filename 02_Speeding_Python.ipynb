{
 "metadata": {
  "name": "02_Speeding_Python"
 },
 "nbformat": 3,
 "nbformat_minor": 0,
 "worksheets": [
  {
   "cells": [
    {
     "cell_type": "markdown",
     "metadata": {},
     "source": [
      "<style>\n",
      "    h1{\n",
      "        text-align:center;\n",
      "    }\n",
      "    h2{\n",
      "        text-align:center;\n",
      "        font-variant:small-caps;\n",
      "    }\n",
      "</style>\n",
      "# Speeding Python\n",
      "# Python in HPC\n",
      "\n",
      "## TACC Training, Oct. 15, 2012\n",
      "\n",
      "Presenters: \n",
      "\n",
      "Andy R. Terrel, PhD  \n",
      "Texas Advanced Computing Center  \n",
      "University of Texas at Austin  \n",
      "\n",
      "Yaakoub El Khamra  \n",
      "Texas Advanced Computing Center  \n",
      "University of Texas at Austin  \n",
      "\n",
      "[![Creative Commons License](http://i.creativecommons.org/l/by/3.0/88x31.png)](http://creativecommons.org/licenses/by/3.0/deed.en_US)  \n",
      "\n",
      "![TACC Logo](/files/figures/TACC_logo.png)\n",
      "\n",
      "<script>\n",
      "var bind_remote = function(selector){\n",
      "    var cc = $('<input/>')\n",
      "        .attr('id','azerty')\n",
      "        .fadeTo(0.2,0)\n",
      "        .keydown(\n",
      "        function(event){\n",
      "                if(event.which == IPython.utils.keycodes.LEFT_ARROW){\n",
      "                    console.log('go left');\n",
      "                    IPython.slideshow.prev();\n",
      "                }\n",
      "                else if(event.which == IPython.utils.keycodes.RIGHT_ARROW){\n",
      "                    console.log('go right')\n",
      "                    IPython.slideshow.next();   \n",
      "                }\n",
      "            event.preventDefault();\n",
      "            return false;\n",
      "            })\n",
      "            .focusin(function(){$('#qwerty').button('option','label','Slide Mode Enabled')})\n",
      "            .focusout(function(){$('#qwerty').button('option','label','Enable Slide Mode')})\n",
      "        \n",
      "        var dd = $('<div/>')\n",
      "            .attr('id','qwerty')\n",
      "            .button({label:'slide control'})\n",
      "            .attr('style','float:right')\n",
      "            .click(\n",
      "                function(){\n",
      "                    $('#azerty').focus();\n",
      "                    console.log('...');\n",
      "                })\n",
      "            .keydown(\n",
      "                function(event){\n",
      "                    console.log('event append',event);\n",
      "                event.preventDefault();\n",
      "                return false;\n",
      "                })\n",
      "    var hin = function(){$(selector).fadeTo('slow',1);}\n",
      "    var hout= function(){$(selector).fadeTo('slow',0.3);}        \n",
      "    $(selector)\n",
      "        .append(cc)\n",
      "        .append(dd)\n",
      "        .fadeTo('slow',0.3)\n",
      "    .hover(hin,hout)\n",
      "     \n",
      "}\n",
      "</script>   "
     ]
    },
    {
     "cell_type": "markdown",
     "metadata": {},
     "source": [
      "---\n",
      "\n",
      "## Interacting with the Tutorial Slides\n",
      "<!--====-->\n",
      "\n",
      "This tutorial is an interactive worksheet designed to encourage you to try out the lessons during the demonstration.  If you are looking at the pdf version, we encourage you to download the updated version (see previous slide) and try the interactive version.\n",
      "\n",
      "To run the interactive version, you need a good Python environment including: \n",
      "\n",
      "* IPython version >= 13.0\n",
      "* Numpy version >= 1.5\n",
      "* Scipy\n",
      "* Matplotlib\n",
      "\n",
      "Move to the directory containing the tarball and execute:\n",
      "\n",
      "    $ ipython notebook --pylab=inline\n",
      "\n",
      "We heartily endorse the [Anaconda distribution](https://store.continuum.io/cshop/anaconda) and the [Free Enthought Python Distribution](http://www.enthought.com/products/epd_free.php)."
     ]
    },
    {
     "cell_type": "markdown",
     "metadata": {},
     "source": [
      "---\n",
      "## Presentation mode\n",
      "<!--====-->\n",
      "The slide show mode is only supported by an IPython development branch version. To get it I recommend cloning from the official branch, adding Matthias Carreau's remote, fetching and using his branch slideshow_extension2.  Here are the commands:\n",
      "\n",
      "    git clone git://github.com/ipython/ipython.git # Official clone\n",
      "    cd ipython\n",
      "    git remote add carreau git://github.com/Carreau/ipython.git # Matthias' branch\n",
      "    git fetch carreau # Fetch the branches\n",
      "    git checkout carreau/slideshow_extension2 # Checkout the slideshow extension\n",
      "    python setup.py develop # Install the development version\n",
      "    ipython notebook # Check out the slideshows.\n"
     ]
    },
    {
     "cell_type": "markdown",
     "metadata": {},
     "source": [
      "<style>\n",
      "        .pmode{ display: none !important }\n",
      "</style>\n",
      "<script>\n",
      "  var IPython = (function(IPython) {\n",
      "\n",
      "      var Presentation = function(){\n",
      "          this.ccell = 0;\n",
      "      }\n",
      "\n",
      "      var is_marked_cell = function(cell){\n",
      "          return (cell.code_mirror.getValue().match(/(\\n)?(<!--|#)?====(-->)?(\\n)?/) != null)\n",
      "      }\n",
      "\n",
      "      Presentation.prototype.create_toolbar = function(){\n",
      "            var pt = $('<div/>').attr('id','toolbar_present').addClass('toolbar');\n",
      "            var that = this;\n",
      "            this.avc = $('<div/>').button({label:that.eta()});\n",
      "            pt.append(this.avc);\n",
      "\n",
      "            $('#toolbar').after(pt);\n",
      "            ptoolbar = new IPython.ToolBar('#toolbar_present');\n",
      "            IPython.ptoolbar = ptoolbar;\n",
      "            ptoolbar.addButtonsGroup([{label:'Stop', icon:'ui-icon-stop', callback:function(){that.stop()}}])\n",
      "            ptoolbar.addButtonsGroup([\n",
      "                     {label:'Prev Slide', icon:'ui-icon-seek-prev', callback:function(){that.prev_group()}},\n",
      "                     {label:'Next Slide', icon:'ui-icon-seek-next', callback:function(){that.next_group()}},\n",
      "                                    ])\n",
      "            ptoolbar.addButtonsGroup([\n",
      "                     {label:'Step Next', icon:'ui-icon-play', callback:function(){that.next()}}\n",
      "                     ])\n",
      "            bind_remote('#toolbar_present');\n",
      "\n",
      "      }\n",
      "\n",
      "      Presentation.prototype.remove_toolbar = function(){\n",
      "          $('#toolbar_present').remove();\n",
      "      }\n",
      "\n",
      "      Presentation.prototype.ngroups = function(){\n",
      "          var cells = IPython.notebook.get_cells();\n",
      "          var cnt =0\n",
      "          for( var i=0; i< cells.length;i++)\n",
      "              if(is_marked_cell(cells[i])) cnt++;\n",
      "          return cnt\n",
      "      }\n",
      "\n",
      "      Presentation.prototype.cgroups = function(){\n",
      "          var cells = IPython.notebook.get_cells();\n",
      "          var cnt =0\n",
      "          for( var i=0; i<= this.ccell ;i++)\n",
      "              if(is_marked_cell(cells[i])) cnt++;\n",
      "          return cnt\n",
      "      }\n",
      "\n",
      "      Presentation.prototype.eta = function(){\n",
      "          return this.cgroups()+'/'+this.ngroups()\n",
      "          }\n",
      "\n",
      "      Presentation.prototype.next_marked_cell_n = function()\n",
      "      {\n",
      "          for(var i=this.ccell+1; i< $('.cell').length; i++)\n",
      "          {\n",
      "              if(is_marked_cell(IPython.notebook.get_cell(i)))\n",
      "                { return i; }\n",
      "          }\n",
      "          return null;\n",
      "      }\n",
      "\n",
      "      Presentation.prototype.prev_marked_cell_n = function()\n",
      "      {\n",
      "          for(var i=this.ccell-1; i> 0; i--)\n",
      "          {\n",
      "              if(is_marked_cell(IPython.notebook.get_cell(i))){\n",
      "                 return i\n",
      "              }\n",
      "          }\n",
      "          return 0;\n",
      "      }\n",
      "\n",
      "      Presentation.prototype.start = function(){\n",
      "          this.restart();\n",
      "          this.resume();\n",
      "      }\n",
      "\n",
      "      Presentation.prototype.restart = function(){\n",
      "          this.ccell = 0;\n",
      "          delete this.avc;\n",
      "      }\n",
      "\n",
      "      Presentation.prototype.resume = function(){\n",
      "          this.create_toolbar();\n",
      "          $('#menubar, #pager_splitter, #pager, #header,#toolbar').addClass('pmode');\n",
      "          $('.cell').fadeOut();\n",
      "          if(this.current_is_marked()){\n",
      "              $('.cell:nth('+this.ccell+')').fadeIn();\n",
      "          } else {\n",
      "              for( var i=this.prev_marked_cell_n() ; i<= this.ccell; i++){\n",
      "                  $('.cell:nth('+i+')').fadeIn();\n",
      "              }\n",
      "          }\n",
      "          var that=this;\n",
      "          if(this.avc != undefined)\n",
      "            $(this.avc).button('option','label',that.eta())\n",
      "          return this;\n",
      "      }\n",
      "\n",
      "      Presentation.prototype.stop = function(){\n",
      "          $('.cell').fadeIn();\n",
      "          $('.pmode').removeClass('pmode');\n",
      "          $('div#notebook').removeClass('pove');\n",
      "          this.remove_toolbar();\n",
      "      }\n",
      "\n",
      "      Presentation.prototype.next = function(){\n",
      "          this.ccell = this.ccell+1;\n",
      "          var that = this;\n",
      "          if(this.ccell >= $('.cell').length ){\n",
      "              this.restart();\n",
      "              this.stop();\n",
      "              return;\n",
      "          }\n",
      "          var nnext = this.ccell;\n",
      "          var ncell = IPython.notebook.get_cell(nnext)\n",
      "\n",
      "          if(is_marked_cell(ncell)){\n",
      "              $('.cell').fadeOut(500);\n",
      "              setTimeout(function(){$('.cell:nth('+nnext+')').fadeIn(500)},600);\n",
      "          } else {\n",
      "              setTimeout(function(){$('.cell:nth('+nnext+')').fadeIn(500)},0);\n",
      "          }\n",
      "          $(this.avc).button('option','label',that.eta())\n",
      "          return this;\n",
      "      }\n",
      "\n",
      "      Presentation.prototype.next_group = function(){\n",
      "          this.ccell = this.next_marked_cell_n();\n",
      "          var that = this;\n",
      "          $('.cell').fadeOut(500);\n",
      "          setTimeout(function(){\n",
      "              $('.cell:nth('+that.ccell+')').fadeIn(500)\n",
      "                  },600);\n",
      "          $(this.avc).button('option','label',that.eta())\n",
      "      }\n",
      "\n",
      "      Presentation.prototype.prev_group = function(){\n",
      "          this.ccell = this.prev_marked_cell_n();\n",
      "          var that = this\n",
      "          $('.cell').fadeOut(500);\n",
      "          setTimeout(function(){$('.cell:nth('+that.ccell+')').fadeIn(500)},600);\n",
      "          $(this.avc).button('option','label',that.eta())\n",
      "      }\n",
      "\n",
      "      Presentation.prototype.is_n_marked = function(n){\n",
      "          return is_marked_cell(IPython.notebook.get_cell(n))\n",
      "      }\n",
      "\n",
      "      Presentation.prototype.current_is_marked = function(n){\n",
      "          return is_marked_cell(IPython.notebook.get_cell(this.ccell));\n",
      "      }\n",
      "\n",
      "      Presentation.prototype.prev = function(){\n",
      "          if(is_marked_cell(IPython.notebook.get_cell(this.ccell))){\n",
      "              var pmcell = this.prev_marked_cell_n();\n",
      "\n",
      "              $('.cell').fadeOut(500);\n",
      "              for( var i=pmcell; i< this.ccell ; i++ ){\n",
      "                  (function(val){\n",
      "                      return function(){\n",
      "                                  setTimeout( function(){\n",
      "                                      $('.cell:nth('+val+')').fadeIn(500)\n",
      "                                      },600);\n",
      "                      }\n",
      "                   })(i)();\n",
      "              }\n",
      "          } else {\n",
      "              $('.cell:nth('+this.ccell+')').fadeOut(500);\n",
      "          }\n",
      "          this.ccell = this.ccell -1;\n",
      "          return this;\n",
      "      }\n",
      "\n",
      "      IPython.Presentation = Presentation;\n",
      "      return IPython;\n",
      "\n",
      "}(IPython));\n",
      "\n",
      "IPython.slideshow = new IPython.Presentation();\n",
      "\n",
      "var sid = 'start_pmode'\n",
      "if(($('#'+sid)).length == 0) {\n",
      "      IPython.toolbar.addButtonsGroup([\n",
      "              {'label'  :'Start Slideshow',\n",
      "                'icon'  :'ui-icon-image',\n",
      "                'callback':function(){IPython.slideshow.resume()},'id':sid},\n",
      "          ])\n",
      "     }\n",
      "</script>\n"
     ]
    },
    {
     "cell_type": "markdown",
     "metadata": {},
     "source": [
      "---\n",
      "## How Slow is Python\n",
      "<!--====-->\n",
      "\n",
      "Let's add one to a million number"
     ]
    },
    {
     "cell_type": "code",
     "collapsed": false,
     "input": [
      "lst = range(1000000) # A pure Python list\n",
      "%timeit [i + 1 for i in lst] # A Python list comprehension (iteration happens in C but with PyObjects)"
     ],
     "language": "python",
     "metadata": {},
     "outputs": [
      {
       "output_type": "stream",
       "stream": "stdout",
       "text": [
        "10 loops, best of 3: 76.9 ms per loop\n"
       ]
      }
     ],
     "prompt_number": 1
    },
    {
     "cell_type": "markdown",
     "metadata": {},
     "source": [
      "---\n",
      "##Why is Python Slow?\n",
      "<!--====-->\n",
      "\n",
      "Dynamic typing requires lots of metadata around variable. \n",
      "\n",
      "* Python uses heavy frame objects during iteration\n",
      "\n",
      "### Solution:\n",
      "* Make an object that has a single type and continuous storage.\n",
      "* Implement common functionality into that object to iterate in C."
     ]
    },
    {
     "cell_type": "code",
     "collapsed": false,
     "input": [
      "arr = arange(1000000) # A NumPy list of integers\n",
      "%timeit arr + 1 # Use operator overloading for nice syntax, now iteration is in C with ints"
     ],
     "language": "python",
     "metadata": {},
     "outputs": [
      {
       "output_type": "stream",
       "stream": "stdout",
       "text": [
        "100 loops, best of 3: 3.58 ms per loop\n"
       ]
      }
     ],
     "prompt_number": 2
    },
    {
     "cell_type": "markdown",
     "metadata": {},
     "source": [
      "---\n",
      "## What makes NumPy so much faster?\n",
      "<!--====-->\n",
      "\n",
      "* Data layout\n",
      "  * homogenous: every item takes up the same size block of memory\n",
      "  * single data-type objects\n",
      "  * powerful array scalar types\n",
      "\n",
      "* universal function (ufuncs)\n",
      "  * function that operates on ndarrays in an element-by-element fashion\n",
      "  * vectorized wrapper for a function\n",
      "  * built-in functions are implemented in compiled C code"
     ]
    },
    {
     "cell_type": "markdown",
     "metadata": {},
     "source": [
      "---\n",
      "## Numpy Data layout\n",
      "<!--====-->\n",
      "\n",
      "* homogenous: every item takes up the same size block of memory\n",
      "* single data-type objects\n",
      "* powerful array scalar types\n",
      "\n",
      "![three fundamental](/files/figures/numpy/threefundamental.png)\n",
      "\n"
     ]
    },
    {
     "cell_type": "markdown",
     "metadata": {},
     "source": [
      "---\n",
      "## Numpy Universal Functions (ufuncs)\n",
      "<!--====-->\n",
      "\n",
      "* function that operates on ndarrays in an element-by-element fashion\n",
      "* vectorized wrapper for a function\n",
      "* built-in functions are implemented in compiled C code"
     ]
    },
    {
     "cell_type": "code",
     "collapsed": false,
     "input": [
      "%timeit [sin(i)**2 for i in arr]\n"
     ],
     "language": "python",
     "metadata": {},
     "outputs": [
      {
       "output_type": "stream",
       "stream": "stdout",
       "text": [
        "1 loops, best of 3: 5.55 s per loop\n"
       ]
      }
     ],
     "prompt_number": 3
    },
    {
     "cell_type": "code",
     "collapsed": false,
     "input": [
      "%timeit np.sin(arr)**2"
     ],
     "language": "python",
     "metadata": {},
     "outputs": [
      {
       "output_type": "stream",
       "stream": "stdout",
       "text": [
        "10 loops, best of 3: 28 ms per loop\n"
       ]
      }
     ],
     "prompt_number": 4
    },
    {
     "cell_type": "markdown",
     "metadata": {},
     "source": [
      "---\n",
      "## Broadcasting Arrays\n",
      "<!--====-->\n",
      "\n",
      "Computing a 3D grid of distances $R_{ijk} = \\sqrt(i^2 + j^2 + k^2)$"
     ]
    },
    {
     "cell_type": "code",
     "collapsed": false,
     "input": [
      "i, j, k = np.mgrid[-100:100, -100:100, -100:100]\n",
      "print (i.shape, j.shape, k.shape)"
     ],
     "language": "python",
     "metadata": {},
     "outputs": [
      {
       "output_type": "stream",
       "stream": "stdout",
       "text": [
        "((200, 200, 200), (200, 200, 200), (200, 200, 200))\n"
       ]
      }
     ],
     "prompt_number": 5
    },
    {
     "cell_type": "code",
     "collapsed": false,
     "input": [
      "R = np.sqrt(i**2 + j**2 + k**2)\n",
      "R.shape"
     ],
     "language": "python",
     "metadata": {},
     "outputs": [
      {
       "output_type": "pyout",
       "prompt_number": 6,
       "text": [
        "(200, 200, 200)"
       ]
      }
     ],
     "prompt_number": 6
    },
    {
     "cell_type": "code",
     "collapsed": false,
     "input": [
      "_ = imshow(R[100]/amax(R), cmap=cm.gray)"
     ],
     "language": "python",
     "metadata": {},
     "outputs": [
      {
       "output_type": "display_data",
       "png": "[encoded data removed]"
      }
     ],
     "prompt_number": 7
    },
    {
     "cell_type": "markdown",
     "metadata": {},
     "source": [
      "---\n",
      "## Broadcasting Arrays\n",
      "<!--====-->\n",
      "\n",
      "But storing three dense arrays for a 3D grid is wasteful. \n",
      "\n",
      "NumPy can broadcast across dimensions thus only working on the outer grids\n",
      "\n",
      "![Numpy Broadcasting](files/figures/numpy_broadcast.png)"
     ]
    },
    {
     "cell_type": "code",
     "collapsed": false,
     "input": [
      "i = arange(-100, 100).reshape(200, 1, 1)\n",
      "j = reshape(i, (1, 200, 1))\n",
      "k = reshape(i, (1, 1, 200))\n",
      "R = np.sqrt(i**2 + j**2 + k**2)"
     ],
     "language": "python",
     "metadata": {},
     "outputs": [],
     "prompt_number": 8
    },
    {
     "cell_type": "code",
     "collapsed": false,
     "input": [
      "_ = pcolor(R[-50]/amax(R))"
     ],
     "language": "python",
     "metadata": {},
     "outputs": [
      {
       "output_type": "display_data",
       "png": "[encoded data removed]"
      }
     ],
     "prompt_number": 9
    },
    {
     "cell_type": "code",
     "collapsed": false,
     "input": [
      "i, j, k = ogrid[-100:100, -100:100, -100:100]\n",
      "R = np.sqrt(i**2 + j**2 + k**2)"
     ],
     "language": "python",
     "metadata": {},
     "outputs": [],
     "prompt_number": 10
    },
    {
     "cell_type": "markdown",
     "metadata": {},
     "source": [
      "---\n",
      "## NumPy's View of Data\n",
      "<!--====-->\n",
      "<pre>\n",
      "    bool      int        int8  \n",
      "    int16     int32      int64  \n",
      "    uint8     uint16     uint32  \n",
      "    uint64    float      float16  \n",
      "    float32   float64    complex  \n",
      "    complex64 complex128 \n",
      "</pre>"
     ]
    },
    {
     "cell_type": "code",
     "collapsed": false,
     "input": [
      "print array([1,2,3], dtype=float)\n",
      "print arange(10).astype(float)\n",
      "print np.int8(arange(10, dtype=float))\n",
      "print np.dtype(int)\n",
      "print np.issubdtype(np.int32, np.int)\n",
      "print np.issubdtype(np.int, np.float)"
     ],
     "language": "python",
     "metadata": {},
     "outputs": [
      {
       "output_type": "stream",
       "stream": "stdout",
       "text": [
        "[ 1.  2.  3.]\n",
        "[ 0.  1.  2.  3.  4.  5.  6.  7.  8.  9.]\n",
        "[0 1 2 3 4 5 6 7 8 9]\n",
        "int64\n",
        "True\n",
        "False\n"
       ]
      }
     ],
     "prompt_number": 11
    },
    {
     "cell_type": "markdown",
     "metadata": {},
     "source": [
      "---\n",
      "## Arrays of Structs in NumPy\n",
      "<!--====-->"
     ]
    },
    {
     "cell_type": "code",
     "collapsed": false,
     "input": [
      "x = np.zeros((2,),dtype=('i4,f4,a10')) \n",
      "print x"
     ],
     "language": "python",
     "metadata": {},
     "outputs": [
      {
       "output_type": "stream",
       "stream": "stdout",
       "text": [
        "[(0, 0.0, '') (0, 0.0, '')]\n"
       ]
      }
     ],
     "prompt_number": 12
    },
    {
     "cell_type": "code",
     "collapsed": false,
     "input": [
      "x[:] = [(1,2.,'Hello'),(2,3.,\"World\")]\n",
      "print x"
     ],
     "language": "python",
     "metadata": {},
     "outputs": [
      {
       "output_type": "stream",
       "stream": "stdout",
       "text": [
        "[(1, 2.0, 'Hello') (2, 3.0, 'World')]\n"
       ]
      }
     ],
     "prompt_number": 13
    },
    {
     "cell_type": "code",
     "collapsed": false,
     "input": [
      "dt = dtype([('time', uint64),\n",
      "            ('pos', [\n",
      "               ('x', float),\n",
      "               ('y', float)])])\n",
      "x = np.array([\n",
      "        (100, ( 0, 0.5)),\n",
      "        (200, ( 0, 10.3)),\n",
      "        (300, (5.5, 15.1))],\n",
      "        dtype=dt)\n",
      "print x['time']\n",
      "print x[ x['time'] >= 200 ]"
     ],
     "language": "python",
     "metadata": {},
     "outputs": [
      {
       "output_type": "stream",
       "stream": "stdout",
       "text": [
        "[100 200 300]\n",
        "[(200L, (0.0, 10.3)) (300L, (5.5, 15.1))]\n"
       ]
      }
     ],
     "prompt_number": 14
    },
    {
     "cell_type": "markdown",
     "metadata": {},
     "source": [
      "---\n",
      "## Compiling to C\n",
      "<!--====-->\n",
      "\n",
      "C is faster, and Python is easier to write.  We want both!\n",
      "\n",
      "## Cython\n",
      "* a programming language based on Python\n",
      "* uses extra syntax allowing for optional static type declarations\n",
      "* source code gets translated into optimized C/C++ code and compiled as Python extension modules\n"
     ]
    },
    {
     "cell_type": "markdown",
     "metadata": {},
     "source": [
      "---\n",
      "## Using Cython in IPython\n",
      "<!--====-->\n",
      "\n",
      "In IPython we can make any cell call out to Cython via the cell magic\n",
      "\n",
      "First load the extension"
     ]
    },
    {
     "cell_type": "code",
     "collapsed": false,
     "input": [
      "%load_ext cythonmagic"
     ],
     "language": "python",
     "metadata": {},
     "outputs": [],
     "prompt_number": 15
    },
    {
     "cell_type": "markdown",
     "metadata": {},
     "source": [
      "Now use `%%cython` at the begining of a code cell to call out to Cython."
     ]
    },
    {
     "cell_type": "code",
     "collapsed": false,
     "input": [
      "%%cython\n",
      "def f_cython(int i):\n",
      "    return i**4 + 3*i**2 + 10"
     ],
     "language": "python",
     "metadata": {},
     "outputs": [],
     "prompt_number": 16
    },
    {
     "cell_type": "markdown",
     "metadata": {},
     "source": [
      "Now use Cython function in code:"
     ]
    },
    {
     "cell_type": "code",
     "collapsed": false,
     "input": [
      "f_cython(100)"
     ],
     "language": "python",
     "metadata": {},
     "outputs": [
      {
       "output_type": "pyout",
       "prompt_number": 17,
       "text": [
        "100030010"
       ]
      }
     ],
     "prompt_number": 17
    },
    {
     "cell_type": "markdown",
     "metadata": {},
     "source": [
      "---\n",
      "\n",
      "## How much faster is Cython?\n",
      "<!--====-->\n",
      "\n",
      "The more you are able to provide type information the better the compile. For example f without type information:"
     ]
    },
    {
     "cell_type": "code",
     "collapsed": false,
     "input": [
      "def f_python(i):\n",
      "    return i**4 + 3*i**2 + 10"
     ],
     "language": "python",
     "metadata": {},
     "outputs": [],
     "prompt_number": 18
    },
    {
     "cell_type": "code",
     "collapsed": false,
     "input": [
      "%timeit f_python(100)"
     ],
     "language": "python",
     "metadata": {},
     "outputs": [
      {
       "output_type": "stream",
       "stream": "stdout",
       "text": [
        "1000000 loops, best of 3: 402 ns per loop\n"
       ]
      }
     ],
     "prompt_number": 19
    },
    {
     "cell_type": "code",
     "collapsed": false,
     "input": [
      "%timeit f_cython(100)"
     ],
     "language": "python",
     "metadata": {},
     "outputs": [
      {
       "output_type": "stream",
       "stream": "stdout",
       "text": [
        "10000000 loops, best of 3: 103 ns per loop\n"
       ]
      }
     ],
     "prompt_number": 20
    },
    {
     "cell_type": "markdown",
     "metadata": {},
     "source": [
      "---\n",
      "## Declaring Cython variables for C level\n",
      "<!--====-->\n",
      "\n",
      "If you use a variable or function only at the Cython level you can keep it in C via `cdef`:"
     ]
    },
    {
     "cell_type": "code",
     "collapsed": false,
     "input": [
      "%%cython\n",
      "cdef f(double x):\n",
      "    return x**2-x\n",
      "\n",
      "def integrate_f(double a, double b, int N):\n",
      "    cdef int i\n",
      "    cdef double s, dx\n",
      "    s = 0\n",
      "    dx = (b-a)/N\n",
      "    for i in range(N):\n",
      "        s += f(a+i*dx)\n",
      "    return s * dx"
     ],
     "language": "python",
     "metadata": {},
     "outputs": [],
     "prompt_number": 21
    },
    {
     "cell_type": "code",
     "collapsed": false,
     "input": [
      "%timeit integrate_f(1.0, 2.0, 1000)"
     ],
     "language": "python",
     "metadata": {},
     "outputs": [
      {
       "output_type": "stream",
       "stream": "stdout",
       "text": [
        "10000 loops, best of 3: 36.3 us per loop\n"
       ]
      }
     ],
     "prompt_number": 22
    },
    {
     "cell_type": "markdown",
     "metadata": {},
     "source": [
      "The pure Python version:"
     ]
    },
    {
     "cell_type": "code",
     "collapsed": false,
     "input": [
      "def f(x):\n",
      "    return x**2-x\n",
      "\n",
      "def integrate_f(a, b, N):\n",
      "    s = 0\n",
      "    dx = (b-a)/N\n",
      "    for i in range(N):\n",
      "        s += f(a+i*dx)\n",
      "    return s * dx"
     ],
     "language": "python",
     "metadata": {},
     "outputs": [],
     "prompt_number": 23
    },
    {
     "cell_type": "code",
     "collapsed": false,
     "input": [
      "%timeit integrate_f(1.0, 2.0, 1000)"
     ],
     "language": "python",
     "metadata": {},
     "outputs": [
      {
       "output_type": "stream",
       "stream": "stdout",
       "text": [
        "1000 loops, best of 3: 501 us per loop\n"
       ]
      }
     ],
     "prompt_number": 24
    },
    {
     "cell_type": "markdown",
     "metadata": {},
     "source": [
      "---\n",
      "## Using NumPy with Cython\n",
      "<!--====-->\n",
      "\n",
      "You can also use fast accessors to NumPy arrays from Cython:"
     ]
    },
    {
     "cell_type": "code",
     "collapsed": false,
     "input": [
      "%%cython\n",
      "import numpy as np\n",
      "# \"cimport\" is used to import special compile-time information\n",
      "# about the numpy module (this is stored in a file numpy.pxd which is\n",
      "# currently part of the Cython distribution).\n",
      "cimport numpy as np\n",
      "# We now need to fix a datatype for our arrays. I've used the variable\n",
      "# DTYPE for this, which is assigned to the usual NumPy runtime\n",
      "# type info object.\n",
      "DTYPE = np.int\n",
      "# \"ctypedef\" assigns a corresponding compile-time type to DTYPE_t. For\n",
      "# every type in the numpy module there's a corresponding compile-time\n",
      "# type with a _t-suffix.\n",
      "ctypedef np.int_t DTYPE_t\n",
      "# \"def\" can type its arguments but not have a return type. The type of the\n",
      "# arguments for a \"def\" function is checked at run-time when entering the\n",
      "# function.\n",
      "#\n",
      "# The arrays f, g and h is typed as \"np.ndarray\" instances. The only effect\n",
      "# this has is to a) insert checks that the function arguments really are\n",
      "# NumPy arrays, and b) make some attribute access like f.shape[0] much\n",
      "# more efficient. (In this example this doesn't matter though.)\n",
      "def naive_convolve(np.ndarray f, np.ndarray g):\n",
      "    if g.shape[0] % 2 != 1 or g.shape[1] % 2 != 1:\n",
      "        raise ValueError(\"Only odd dimensions on filter supported\")\n",
      "    assert f.dtype == DTYPE and g.dtype == DTYPE\n",
      "    # The \"cdef\" keyword is also used within functions to type variables. It\n",
      "    # can only be used at the top indendation level (there are non-trivial\n",
      "    # problems with allowing them in other places, though we'd love to see\n",
      "    # good and thought out proposals for it).\n",
      "    #\n",
      "    # For the indices, the \"int\" type is used. This corresponds to a C int,\n",
      "    # other C types (like \"unsigned int\") could have been used instead.\n",
      "    # Purists could use \"Py_ssize_t\" which is the proper Python type for\n",
      "    # array indices.\n",
      "    cdef int vmax = f.shape[0]\n",
      "    cdef int wmax = f.shape[1]\n",
      "    cdef int smax = g.shape[0]\n",
      "    cdef int tmax = g.shape[1]\n",
      "    cdef int smid = smax // 2\n",
      "    cdef int tmid = tmax // 2\n",
      "    cdef int xmax = vmax + 2*smid\n",
      "    cdef int ymax = wmax + 2*tmid\n",
      "    cdef np.ndarray h = np.zeros([xmax, ymax], dtype=DTYPE)\n",
      "    cdef int x, y, s, t, v, w\n",
      "    # It is very important to type ALL your variables. You do not get any\n",
      "    # warnings if not, only much slower code (they are implicitly typed as\n",
      "    # Python objects).\n",
      "    cdef int s_from, s_to, t_from, t_to\n",
      "    # For the value variable, we want to use the same data type as is\n",
      "    # stored in the array, so we use \"DTYPE_t\" as defined above.\n",
      "    # NB! An important side-effect of this is that if \"value\" overflows its\n",
      "    # datatype size, it will simply wrap around like in C, rather than raise\n",
      "    # an error like in Python.\n",
      "    cdef DTYPE_t value\n",
      "    for x in range(xmax):\n",
      "        for y in range(ymax):\n",
      "            s_from = max(smid - x, -smid)\n",
      "            s_to = min((xmax - x) - smid, smid + 1)\n",
      "            t_from = max(tmid - y, -tmid)\n",
      "            t_to = min((ymax - y) - tmid, tmid + 1)\n",
      "            value = 0\n",
      "            for s in range(s_from, s_to):\n",
      "                for t in range(t_from, t_to):\n",
      "                    v = x - smid + s\n",
      "                    w = y - tmid + t\n",
      "                    value += g[smid - s, tmid - t] * f[v, w]\n",
      "            h[x, y] = value\n",
      "    return h"
     ],
     "language": "python",
     "metadata": {},
     "outputs": [],
     "prompt_number": 25
    },
    {
     "cell_type": "code",
     "collapsed": false,
     "input": [
      "N=100\n",
      "f = np.arange(N*N, dtype=np.int).reshape((N,N))\n",
      "g = np.arange(81, dtype=np.int).reshape((9, 9))\n",
      "%timeit -n2 -r3 naive_convolve(f, g)"
     ],
     "language": "python",
     "metadata": {},
     "outputs": [
      {
       "output_type": "stream",
       "stream": "stdout",
       "text": [
        "2 loops, best of 3: 1.74 s per loop\n"
       ]
      }
     ],
     "prompt_number": 26
    }
   ],
   "metadata": {}
  }
 ]
}