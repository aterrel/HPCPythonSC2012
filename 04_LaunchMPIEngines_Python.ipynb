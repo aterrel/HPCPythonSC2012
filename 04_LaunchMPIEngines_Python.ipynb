{
 "metadata": {
  "name": "04_LaunchMPIEngines_Python"
 },
 "nbformat": 3,
 "nbformat_minor": 0,
 "worksheets": [
  {
   "cells": [
    {
     "cell_type": "code",
     "collapsed": false,
     "input": [
      "!ipcluster start --engines=MPIEngineSetLauncher --n 4"
     ],
     "language": "python",
     "metadata": {},
     "outputs": [
      {
       "output_type": "stream",
       "stream": "stdout",
       "text": [
        "Vendor:  continuum\r\n",
        "Product: anacondapro\r\n",
        "Message: trial mode expires in 30 days\r\n"
       ]
      },
      {
       "output_type": "stream",
       "stream": "stdout",
       "text": [
        "2012-10-10 10:56:42,430.430 [IPClusterStart] Using existing profile dir: u'/home/yye00/.config/ipython/profile_default'\r\n",
        "2012-10-10 10:56:42.435 [IPClusterStart] Starting ipcluster with [daemon=False]\r\n",
        "2012-10-10 10:56:42.436 [IPClusterStart] Creating pid file: /home/yye00/.config/ipython/profile_default/pid/ipcluster.pid\r\n",
        "2012-10-10 10:56:42.436 [IPClusterStart] Starting Controller with LocalControllerLauncher\r\n"
       ]
      },
      {
       "output_type": "stream",
       "stream": "stdout",
       "text": [
        "2012-10-10 10:56:43.436 [IPClusterStart] Starting 4 Engines with MPIEngineSetLauncher\r\n"
       ]
      },
      {
       "output_type": "stream",
       "stream": "stdout",
       "text": [
        "2012-10-10 10:57:13.440 [IPClusterStart] Engines appear to have started successfully\r\n"
       ]
      }
     ],
     "prompt_number": "*"
    }
   ],
   "metadata": {}
  }
 ]
}