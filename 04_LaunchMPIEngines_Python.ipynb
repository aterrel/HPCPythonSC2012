{
 "metadata": {
  "name": "04_LaunchMPIEngines_Python"
 },
 "nbformat": 3,
 "nbformat_minor": 0,
 "worksheets": [
  {
   "cells": [
    {
     "cell_type": "code",
     "collapsed": false,
     "input": [
      "!ipcluster start --engines=MPI --n 4"
     ],
     "language": "python",
     "metadata": {},
     "outputs": [
      {
       "output_type": "stream",
       "stream": "stdout",
       "text": [
        "2012-10-27 10:17:46,903.903 [IPClusterStart] Using existing profile dir: u'/Users/aterrel/.ipython/profile_default'\r\n",
        "2012-10-27 10:17:46.907 [IPClusterStart] Starting ipcluster with [daemon=False]\r\n",
        "2012-10-27 10:17:46.907 [IPClusterStart] Creating pid file: /Users/aterrel/.ipython/profile_default/pid/ipcluster.pid\r\n",
        "2012-10-27 10:17:46.907 [IPClusterStart] Starting Controller with LocalControllerLauncher\r\n"
       ]
      },
      {
       "output_type": "stream",
       "stream": "stdout",
       "text": [
        "2012-10-27 10:17:47.908 [IPClusterStart] Starting 4 Engines with MPI\r\n"
       ]
      },
      {
       "output_type": "stream",
       "stream": "stdout",
       "text": [
        "2012-10-27 10:18:17.916 [IPClusterStart] Engines appear to have started successfully\r\n"
       ]
      },
      {
       "output_type": "stream",
       "stream": "stdout",
       "text": [
        "2012-10-27 10:30:22.344 [IPClusterStart] IPython cluster: stopping\r\n",
        "2012-10-27 10:30:22.344 [IPClusterStart] Stopping Engines...\r\n"
       ]
      },
      {
       "output_type": "stream",
       "stream": "stdout",
       "text": [
        "2012-10-27 10:30:25.345 [IPClusterStart] Removing pid file: /Users/aterrel/.ipython/profile_default/pid/ipcluster.pid\r\n"
       ]
      }
     ],
     "prompt_number": 1
    },
    {
     "cell_type": "code",
     "collapsed": false,
     "input": [
      "!ipcluster stop"
     ],
     "language": "python",
     "metadata": {},
     "outputs": [
      {
       "output_type": "stream",
       "stream": "stdout",
       "text": [
        "2012-10-27 10:30:26,008.008 [IPClusterStop] Using existing profile dir: u'/Users/aterrel/.ipython/profile_default'\r\n",
        "2012-10-27 10:30:26.010 [IPClusterStop] Could not read pid file, cluster is probably not running.\r\n"
       ]
      }
     ],
     "prompt_number": 2
    },
    {
     "cell_type": "code",
     "collapsed": false,
     "input": [],
     "language": "python",
     "metadata": {},
     "outputs": []
    }
   ],
   "metadata": {}
  }
 ]
}